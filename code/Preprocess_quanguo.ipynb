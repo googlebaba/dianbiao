{
 "cells": [
  {
   "cell_type": "markdown",
   "metadata": {
    "collapsed": true
   },
   "source": [
    "# 数据预处理"
   ]
  },
  {
   "cell_type": "code",
   "execution_count": 10,
   "metadata": {
    "collapsed": false,
    "scrolled": true
   },
   "outputs": [
    {
     "data": {
      "text/html": [
       "<div>\n",
       "<table border=\"1\" class=\"dataframe\">\n",
       "  <thead>\n",
       "    <tr style=\"text-align: right;\">\n",
       "      <th></th>\n",
       "      <th>EQUIP_ID</th>\n",
       "      <th>FAULT_TYPE</th>\n",
       "      <th>detect</th>\n",
       "      <th>inst</th>\n",
       "      <th>fault</th>\n",
       "      <th>saveday</th>\n",
       "      <th>workmonth</th>\n",
       "      <th>INST_DATE</th>\n",
       "      <th>DETECT_DATE</th>\n",
       "      <th>FAULT_DATE</th>\n",
       "      <th>SYNC_ORG_NO</th>\n",
       "      <th>ORG_NO</th>\n",
       "      <th>ORG_NAME</th>\n",
       "      <th>SORT_CODE</th>\n",
       "      <th>SPEC_CODE</th>\n",
       "      <th>COMM_MODE</th>\n",
       "      <th>ARRIVE_BATCH_NO</th>\n",
       "      <th>QTY</th>\n",
       "      <th>MANUFACTURER</th>\n",
       "    </tr>\n",
       "  </thead>\n",
       "  <tbody>\n",
       "    <tr>\n",
       "      <th>0</th>\n",
       "      <td>77</td>\n",
       "      <td>412</td>\n",
       "      <td></td>\n",
       "      <td>1/4/2013</td>\n",
       "      <td>1/23/2015</td>\n",
       "      <td></td>\n",
       "      <td>25</td>\n",
       "      <td>2013-1-4</td>\n",
       "      <td></td>\n",
       "      <td>2015-1-23</td>\n",
       "      <td>64101</td>\n",
       "      <td>6440102</td>\n",
       "      <td>兴庆客户服务分中心</td>\n",
       "      <td>1</td>\n",
       "      <td>113</td>\n",
       "      <td>2</td>\n",
       "      <td>2011000920914723</td>\n",
       "      <td>8000</td>\n",
       "      <td>588</td>\n",
       "    </tr>\n",
       "    <tr>\n",
       "      <th>1</th>\n",
       "      <td>275</td>\n",
       "      <td>41201</td>\n",
       "      <td></td>\n",
       "      <td>1/1/2000</td>\n",
       "      <td>3/12/2015</td>\n",
       "      <td></td>\n",
       "      <td>182</td>\n",
       "      <td>2000-1-1</td>\n",
       "      <td></td>\n",
       "      <td>2015-3-12</td>\n",
       "      <td>34101</td>\n",
       "      <td>34401</td>\n",
       "      <td>合肥供电公司</td>\n",
       "      <td>1</td>\n",
       "      <td>138</td>\n",
       "      <td>2</td>\n",
       "      <td>9999138</td>\n",
       "      <td>1326580</td>\n",
       "      <td>1118</td>\n",
       "    </tr>\n",
       "    <tr>\n",
       "      <th>2</th>\n",
       "      <td>355</td>\n",
       "      <td>412</td>\n",
       "      <td>5/11/2016</td>\n",
       "      <td>1/4/2013</td>\n",
       "      <td>12/1/2015</td>\n",
       "      <td>-1223</td>\n",
       "      <td>35</td>\n",
       "      <td>2013-1-4</td>\n",
       "      <td>2016-5-11 上午 11:51:0</td>\n",
       "      <td>2015-12-1</td>\n",
       "      <td>64101</td>\n",
       "      <td>6440102</td>\n",
       "      <td>兴庆客户服务分中心</td>\n",
       "      <td>1</td>\n",
       "      <td>113</td>\n",
       "      <td>2</td>\n",
       "      <td>2011000920914723</td>\n",
       "      <td>8000</td>\n",
       "      <td>678</td>\n",
       "    </tr>\n",
       "    <tr>\n",
       "      <th>3</th>\n",
       "      <td>415</td>\n",
       "      <td>412</td>\n",
       "      <td></td>\n",
       "      <td>1/4/2013</td>\n",
       "      <td>2/12/2015</td>\n",
       "      <td></td>\n",
       "      <td>25</td>\n",
       "      <td>2013-1-4</td>\n",
       "      <td></td>\n",
       "      <td>2015-2-12</td>\n",
       "      <td>64101</td>\n",
       "      <td>6440101</td>\n",
       "      <td>银川客户服务中心</td>\n",
       "      <td>1</td>\n",
       "      <td>113</td>\n",
       "      <td>2</td>\n",
       "      <td>2011000920914723</td>\n",
       "      <td>8000</td>\n",
       "      <td>588</td>\n",
       "    </tr>\n",
       "    <tr>\n",
       "      <th>4</th>\n",
       "      <td>416</td>\n",
       "      <td>412</td>\n",
       "      <td></td>\n",
       "      <td>1/4/2013</td>\n",
       "      <td>2/12/2015</td>\n",
       "      <td></td>\n",
       "      <td>25</td>\n",
       "      <td>2013-1-4</td>\n",
       "      <td></td>\n",
       "      <td>2015-2-12</td>\n",
       "      <td>64101</td>\n",
       "      <td>6440101</td>\n",
       "      <td>银川客户服务中心</td>\n",
       "      <td>1</td>\n",
       "      <td>113</td>\n",
       "      <td>2</td>\n",
       "      <td>2011000920914723</td>\n",
       "      <td>8000</td>\n",
       "      <td>588</td>\n",
       "    </tr>\n",
       "  </tbody>\n",
       "</table>\n",
       "</div>"
      ],
      "text/plain": [
       "   EQUIP_ID FAULT_TYPE     detect      inst      fault saveday workmonth  \\\n",
       "0        77        412             1/4/2013  1/23/2015                25   \n",
       "1       275      41201             1/1/2000  3/12/2015               182   \n",
       "2       355        412  5/11/2016  1/4/2013  12/1/2015   -1223        35   \n",
       "3       415        412             1/4/2013  2/12/2015                25   \n",
       "4       416        412             1/4/2013  2/12/2015                25   \n",
       "\n",
       "  INST_DATE           DETECT_DATE FAULT_DATE  SYNC_ORG_NO   ORG_NO   ORG_NAME  \\\n",
       "0  2013-1-4                        2015-1-23        64101  6440102  兴庆客户服务分中心   \n",
       "1  2000-1-1                        2015-3-12        34101    34401     合肥供电公司   \n",
       "2  2013-1-4  2016-5-11 上午 11:51:0  2015-12-1        64101  6440102  兴庆客户服务分中心   \n",
       "3  2013-1-4                        2015-2-12        64101  6440101   银川客户服务中心   \n",
       "4  2013-1-4                        2015-2-12        64101  6440101   银川客户服务中心   \n",
       "\n",
       "  SORT_CODE SPEC_CODE COMM_MODE           ARRIVE_BATCH_NO      QTY  \\\n",
       "0         1       113         2          2011000920914723     8000   \n",
       "1         1       138         2                   9999138  1326580   \n",
       "2         1       113         2          2011000920914723     8000   \n",
       "3         1       113         2          2011000920914723     8000   \n",
       "4         1       113         2          2011000920914723     8000   \n",
       "\n",
       "  MANUFACTURER  \n",
       "0          588  \n",
       "1         1118  \n",
       "2          678  \n",
       "3          588  \n",
       "4          588  "
      ]
     },
     "execution_count": 10,
     "metadata": {},
     "output_type": "execute_result"
    }
   ],
   "source": [
    "import pandas as pd\n",
    "from dateutil.parser import parse\n",
    "import numpy as np\n",
    "%matplotlib inline\n",
    "\n",
    "dateparse = lambda dates: pd.datetime.strptime(dates,'%Y-%m-%d')\n",
    "data = pd.read_csv('../data/all去重改时间.csv' ,dtype={'ORG':object, 'SPEC_CODE':object, 'COMM_MODE':object, 'MANUFACTURER':object,\n",
    "                                                   'FAULT_QUARTER':object}, date_parser=dateparse)\n",
    "data.head()"
   ]
  },
  {
   "cell_type": "code",
   "execution_count": 11,
   "metadata": {
    "collapsed": false
   },
   "outputs": [
    {
     "name": "stdout",
     "output_type": "stream",
     "text": [
      "<class 'pandas.core.frame.DataFrame'>\n",
      "RangeIndex: 1636294 entries, 0 to 1636293\n",
      "Data columns (total 19 columns):\n",
      "EQUIP_ID           1636294 non-null int64\n",
      "FAULT_TYPE         1636294 non-null object\n",
      "detect             1636294 non-null object\n",
      "inst               1636294 non-null object\n",
      "fault              1636294 non-null object\n",
      "saveday            1636294 non-null object\n",
      "workmonth          1636294 non-null object\n",
      "INST_DATE          1636294 non-null object\n",
      "DETECT_DATE        1636294 non-null object\n",
      "FAULT_DATE         1636294 non-null object\n",
      "SYNC_ORG_NO        1636294 non-null int64\n",
      "ORG_NO             1636294 non-null int64\n",
      "ORG_NAME           1636294 non-null object\n",
      "SORT_CODE          1636294 non-null object\n",
      "SPEC_CODE          1636294 non-null object\n",
      "COMM_MODE          1636294 non-null object\n",
      "ARRIVE_BATCH_NO    1636294 non-null object\n",
      "QTY                1636294 non-null object\n",
      "MANUFACTURER       1636294 non-null object\n",
      "dtypes: int64(3), object(16)\n",
      "memory usage: 237.2+ MB\n"
     ]
    }
   ],
   "source": [
    "data.info()"
   ]
  },
  {
   "cell_type": "code",
   "execution_count": 12,
   "metadata": {
    "collapsed": false
   },
   "outputs": [],
   "source": [
    "#转化日期格式\n",
    "data['FAULT_DATE1'] = pd.to_datetime(data['FAULT_DATE'].str.strip().str.split(' ').str[0])\n",
    "data['INST_DATE1'] = pd.to_datetime(data['INST_DATE'].str.strip().str.split(' ').str[0])\n",
    "data['DETECT_DATE1'] = pd.to_datetime(data['DETECT_DATE'].str.strip().str.split(' ').str[0], errors = 'coerce')"
   ]
  },
  {
   "cell_type": "code",
   "execution_count": 13,
   "metadata": {
    "collapsed": false
   },
   "outputs": [],
   "source": [
    "data['FAULT_MONTH'] = [x.month for x in data['FAULT_DATE1']]\n",
    "data['INST_MONTH'] = [x.month for x in data['INST_DATE1']]"
   ]
  },
  {
   "cell_type": "code",
   "execution_count": 14,
   "metadata": {
    "collapsed": false
   },
   "outputs": [],
   "source": [
    "data['INST_MONTH'] = pd.to_numeric(data['INST_MONTH'], downcast='signed', errors = 'coerce')"
   ]
  },
  {
   "cell_type": "code",
   "execution_count": 15,
   "metadata": {
    "collapsed": false
   },
   "outputs": [
    {
     "name": "stdout",
     "output_type": "stream",
     "text": [
      "0 56590\n"
     ]
    },
    {
     "name": "stderr",
     "output_type": "stream",
     "text": [
      "/home/hadoop/.local/lib/python2.7/site-packages/ipykernel/__main__.py:16: SettingWithCopyWarning: \n",
      "A value is trying to be set on a copy of a slice from a DataFrame\n",
      "\n",
      "See the caveats in the documentation: http://pandas.pydata.org/pandas-docs/stable/indexing.html#indexing-view-versus-copy\n",
      "/home/hadoop/.local/lib/python2.7/site-packages/ipykernel/__main__.py:25: SettingWithCopyWarning: \n",
      "A value is trying to be set on a copy of a slice from a DataFrame\n",
      "\n",
      "See the caveats in the documentation: http://pandas.pydata.org/pandas-docs/stable/indexing.html#indexing-view-versus-copy\n"
     ]
    }
   ],
   "source": [
    "from datetime import timedelta\n",
    "from IPython.core.debugger import Tracer\n",
    "print sum(data['FAULT_DATE1'].isnull()), sum(data['INST_DATE1'].isnull())\n",
    "data['work_month'] = data['FAULT_DATE1'] - data['INST_DATE1']\n",
    "data['work_month'] = [x.days/30 if not pd.isnull(x) else np.nan for x in data['work_month']]\n",
    "\n",
    "data['save_day'] = data['INST_DATE1'] - data['DETECT_DATE1']\n",
    "data['save_day'] = [x.days if not pd.isnull(x) else np.nan for x in data['save_day']]\n",
    "\n",
    "month_mean = data['work_month'].mean()\n",
    "month_std = data['work_month'].std()\n",
    "count_nan_month = data['work_month'].isnull().sum()\n",
    "count_0_month = len(data['work_month'][data['work_month']<0])\n",
    "#随机取正态分布进行补充缺失值\n",
    "rand_1 = np.random.randint(month_mean - month_std, month_mean + month_std, size = count_nan_month + count_0_month)\n",
    "data['work_month'][(data['work_month'].isnull()) | (data['work_month']<0)] = rand_1\n",
    "\n",
    "day_mean = data['save_day'].mean()\n",
    "day_std = data['save_day'].std()\n",
    "count_nan_day = data['save_day'].isnull().sum()\n",
    "count_0_day = len(data['save_day'][data['save_day']<0])\n",
    "#随机取正态分布进行补充缺失值\n",
    "rand_2 = np.random.randint(day_mean - day_std, day_mean + day_std, size = count_nan_day + count_0_day)\n",
    "\n",
    "data['save_day'][(data['save_day'].isnull()) | (data['save_day']<0)] = rand_2"
   ]
  },
  {
   "cell_type": "code",
   "execution_count": 16,
   "metadata": {
    "collapsed": false
   },
   "outputs": [
    {
     "data": {
      "text/plain": [
       "409    127096\n",
       "411     76257\n",
       "407     71985\n",
       "408     57424\n",
       "404     54128\n",
       "401     35836\n",
       "410     17851\n",
       "402     17329\n",
       "405      4914\n",
       "406      3643\n",
       "403      2377\n",
       "Name: FAULT_TYPE, dtype: int64"
      ]
     },
     "execution_count": 16,
     "metadata": {},
     "output_type": "execute_result"
    }
   ],
   "source": [
    "#筛选数据\n",
    "data = data[data['SORT_CODE']==10] #选出SORT_CODE 为10 的智能表\n",
    "data['FAULT_TYPE_1'] = [x[0] for x in data['FAULT_TYPE'].values.astype('str')]\n",
    "data['FAULT_TYPE'] = [x[:3] for x in data['FAULT_TYPE'].values.astype('str')]\n",
    "data = data[data['FAULT_TYPE_1']=='4']\n",
    "data = data[(data['FAULT_TYPE']!='412')&(data['FAULT_TYPE']!='4')]\n",
    "data['FAULT_TYPE'].value_counts()\n",
    "#data['ORG_NO'] = [x[:5] for x in data['ORG_NO'].values.astype('str')]"
   ]
  },
  {
   "cell_type": "code",
   "execution_count": 17,
   "metadata": {
    "collapsed": false
   },
   "outputs": [],
   "source": [
    "#删除无用数据\n",
    "data.drop(['SORT_CODE', 'FAULT_DATE', 'INST_DATE','DETECT_DATE','detect', 'inst', 'fault', 'workmonth', 'QTY','saveday'], \n",
    "         axis=1, inplace=True)"
   ]
  },
  {
   "cell_type": "code",
   "execution_count": 18,
   "metadata": {
    "collapsed": false
   },
   "outputs": [],
   "source": [
    "data.to_csv('../data/all_2.csv', index=False)"
   ]
  },
  {
   "cell_type": "markdown",
   "metadata": {
    "collapsed": true
   },
   "source": [
    "## "
   ]
  }
 ],
 "metadata": {
  "kernelspec": {
   "display_name": "Python 2",
   "language": "python",
   "name": "python2"
  },
  "language_info": {
   "codemirror_mode": {
    "name": "ipython",
    "version": 2
   },
   "file_extension": ".py",
   "mimetype": "text/x-python",
   "name": "python",
   "nbconvert_exporter": "python",
   "pygments_lexer": "ipython2",
   "version": "2.7.10"
  }
 },
 "nbformat": 4,
 "nbformat_minor": 1
}
