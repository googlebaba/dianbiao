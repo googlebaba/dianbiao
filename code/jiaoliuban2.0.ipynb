{
 "cells": [
  {
   "cell_type": "markdown",
   "metadata": {
    "collapsed": true
   },
   "source": [
    "# 全国智能电表第四类故障预测\n",
    "## 数据说明\n",
    "* 全国智能电表第四类故障数据\n",
    "* 数据属性：**省份** **供电单位** **设备规格** **供应商** **安装月份** **故障月份** **使用时长** **通讯方式** **库存时间** **批次**\n",
    "* 分类准确度：0.7"
   ]
  },
  {
   "cell_type": "code",
   "execution_count": 1,
   "metadata": {
    "collapsed": true
   },
   "outputs": [],
   "source": [
    "# -*- coding: utf-8 -*-\n",
    "\n",
    "import numpy as np\n",
    "import pandas as pd\n",
    "import seaborn as sns\n",
    "sns.set_style('whitegrid')\n",
    "import matplotlib.pyplot as plt\n",
    "from scipy.cluster.hierarchy import linkage,fclusterdata\n",
    "from scipy.sparse import coo_matrix, bmat\n",
    "from sklearn import preprocessing\n",
    "%matplotlib inline"
   ]
  },
  {
   "cell_type": "markdown",
   "metadata": {},
   "source": [
    "# 参数设置"
   ]
  },
  {
   "cell_type": "code",
   "execution_count": 2,
   "metadata": {
    "collapsed": true
   },
   "outputs": [],
   "source": [
    "PLOT = False  #是否画图\n",
    "N = 1    #输出结果个数"
   ]
  },
  {
   "cell_type": "markdown",
   "metadata": {},
   "source": [
    "# Data Explore"
   ]
  },
  {
   "cell_type": "code",
   "execution_count": 3,
   "metadata": {
    "collapsed": false,
    "scrolled": false
   },
   "outputs": [
    {
     "name": "stderr",
     "output_type": "stream",
     "text": [
      "/home/hadoop/.local/lib/python2.7/site-packages/IPython/core/interactiveshell.py:2717: DtypeWarning: Columns (6,7) have mixed types. Specify dtype option on import or set low_memory=False.\n",
      "  interactivity=interactivity, compiler=compiler, result=result)\n"
     ]
    },
    {
     "data": {
      "text/html": [
       "<div>\n",
       "<table border=\"1\" class=\"dataframe\">\n",
       "  <thead>\n",
       "    <tr style=\"text-align: right;\">\n",
       "      <th></th>\n",
       "      <th>EQUIP_ID</th>\n",
       "      <th>FAULT_TYPE</th>\n",
       "      <th>SYNC_ORG_NO</th>\n",
       "      <th>ORG_NO</th>\n",
       "      <th>ORG_NAME</th>\n",
       "      <th>SPEC_CODE</th>\n",
       "      <th>COMM_MODE</th>\n",
       "      <th>ARRIVE_BATCH_NO</th>\n",
       "      <th>MANUFACTURER</th>\n",
       "      <th>FAULT_DATE1</th>\n",
       "      <th>INST_DATE1</th>\n",
       "      <th>DETECT_DATE1</th>\n",
       "      <th>FAULT_MONTH</th>\n",
       "      <th>INST_MONTH</th>\n",
       "      <th>work_month</th>\n",
       "      <th>save_day</th>\n",
       "      <th>FAULT_TYPE_1</th>\n",
       "    </tr>\n",
       "  </thead>\n",
       "  <tbody>\n",
       "    <tr>\n",
       "      <th>0</th>\n",
       "      <td>904116</td>\n",
       "      <td>411</td>\n",
       "      <td>22101</td>\n",
       "      <td>2240101</td>\n",
       "      <td>客户服务中心(营销部)</td>\n",
       "      <td>101</td>\n",
       "      <td>3</td>\n",
       "      <td>10000000000000000</td>\n",
       "      <td>578</td>\n",
       "      <td>2015-06-01</td>\n",
       "      <td>2009-09-16</td>\n",
       "      <td>2009-09-14</td>\n",
       "      <td>6</td>\n",
       "      <td>9.0</td>\n",
       "      <td>69.0</td>\n",
       "      <td>2.0</td>\n",
       "      <td>4</td>\n",
       "    </tr>\n",
       "    <tr>\n",
       "      <th>1</th>\n",
       "      <td>1489695</td>\n",
       "      <td>404</td>\n",
       "      <td>61101</td>\n",
       "      <td>61102</td>\n",
       "      <td>陕西省电力公司</td>\n",
       "      <td>113</td>\n",
       "      <td>2</td>\n",
       "      <td>200987479406</td>\n",
       "      <td>924</td>\n",
       "      <td>2015-11-18</td>\n",
       "      <td>NaN</td>\n",
       "      <td>2012-12-29</td>\n",
       "      <td>11</td>\n",
       "      <td>NaN</td>\n",
       "      <td>49.0</td>\n",
       "      <td>-88.0</td>\n",
       "      <td>4</td>\n",
       "    </tr>\n",
       "    <tr>\n",
       "      <th>2</th>\n",
       "      <td>1505752</td>\n",
       "      <td>409</td>\n",
       "      <td>61101</td>\n",
       "      <td>61102</td>\n",
       "      <td>陕西省电力公司</td>\n",
       "      <td>113</td>\n",
       "      <td>2</td>\n",
       "      <td>200987479406</td>\n",
       "      <td>924</td>\n",
       "      <td>2015-12-18</td>\n",
       "      <td>NaN</td>\n",
       "      <td>2012-12-29</td>\n",
       "      <td>12</td>\n",
       "      <td>NaN</td>\n",
       "      <td>49.0</td>\n",
       "      <td>135.0</td>\n",
       "      <td>4</td>\n",
       "    </tr>\n",
       "    <tr>\n",
       "      <th>3</th>\n",
       "      <td>2376871</td>\n",
       "      <td>409</td>\n",
       "      <td>61101</td>\n",
       "      <td>61102</td>\n",
       "      <td>陕西省电力公司</td>\n",
       "      <td>118</td>\n",
       "      <td>2</td>\n",
       "      <td>200987479531</td>\n",
       "      <td>825</td>\n",
       "      <td>2015-12-18</td>\n",
       "      <td>NaN</td>\n",
       "      <td>2010-10-19</td>\n",
       "      <td>12</td>\n",
       "      <td>NaN</td>\n",
       "      <td>27.0</td>\n",
       "      <td>-524.0</td>\n",
       "      <td>4</td>\n",
       "    </tr>\n",
       "    <tr>\n",
       "      <th>4</th>\n",
       "      <td>2376894</td>\n",
       "      <td>409</td>\n",
       "      <td>61101</td>\n",
       "      <td>61102</td>\n",
       "      <td>陕西省电力公司</td>\n",
       "      <td>113</td>\n",
       "      <td>2</td>\n",
       "      <td>200987479406</td>\n",
       "      <td>924</td>\n",
       "      <td>2015-12-18</td>\n",
       "      <td>NaN</td>\n",
       "      <td>2012-12-29</td>\n",
       "      <td>12</td>\n",
       "      <td>NaN</td>\n",
       "      <td>41.0</td>\n",
       "      <td>-173.0</td>\n",
       "      <td>4</td>\n",
       "    </tr>\n",
       "  </tbody>\n",
       "</table>\n",
       "</div>"
      ],
      "text/plain": [
       "  EQUIP_ID FAULT_TYPE SYNC_ORG_NO   ORG_NO     ORG_NAME SPEC_CODE COMM_MODE  \\\n",
       "0   904116        411       22101  2240101  客户服务中心(营销部)       101         3   \n",
       "1  1489695        404       61101    61102      陕西省电力公司       113         2   \n",
       "2  1505752        409       61101    61102      陕西省电力公司       113         2   \n",
       "3  2376871        409       61101    61102      陕西省电力公司       118         2   \n",
       "4  2376894        409       61101    61102      陕西省电力公司       113         2   \n",
       "\n",
       "            ARRIVE_BATCH_NO MANUFACTURER FAULT_DATE1  INST_DATE1 DETECT_DATE1  \\\n",
       "0         10000000000000000          578  2015-06-01  2009-09-16   2009-09-14   \n",
       "1              200987479406          924  2015-11-18         NaN   2012-12-29   \n",
       "2              200987479406          924  2015-12-18         NaN   2012-12-29   \n",
       "3              200987479531          825  2015-12-18         NaN   2010-10-19   \n",
       "4              200987479406          924  2015-12-18         NaN   2012-12-29   \n",
       "\n",
       "   FAULT_MONTH INST_MONTH  work_month  save_day  FAULT_TYPE_1  \n",
       "0            6        9.0        69.0       2.0             4  \n",
       "1           11        NaN        49.0     -88.0             4  \n",
       "2           12        NaN        49.0     135.0             4  \n",
       "3           12        NaN        27.0    -524.0             4  \n",
       "4           12        NaN        41.0    -173.0             4  "
      ]
     },
     "execution_count": 3,
     "metadata": {},
     "output_type": "execute_result"
    }
   ],
   "source": [
    "data = pd.read_csv('../data/all_2.csv', dtype={0:object, 'ORG':object, 'SPEC_CODE':object, 'MANUFACTURER':object,\n",
    "                                                  'FAULT_MONTH':int, 'INST_MONTH':object, 'FAULT_QUARTER':object, \n",
    "                                                  'FAULT_TYPE': object,'SYNC_ORG_NO':object,'ORG_NO':object\n",
    "                                              \n",
    "                                                 }, encoding='utf-8')\n",
    "\n",
    "#preview the zhejiang_4 data\n",
    "data.head()"
   ]
  },
  {
   "cell_type": "markdown",
   "metadata": {},
   "source": [
    "# feature preprocessing"
   ]
  },
  {
   "cell_type": "code",
   "execution_count": 4,
   "metadata": {
    "collapsed": false
   },
   "outputs": [],
   "source": [
    "data.drop([data.columns[0]], axis=1, inplace=True)\n",
    "#data.drop_duplicates(['FAULT_TYPE', 'ORG_NO', 'SPEC_CODE', 'COMM_MODE', 'MANUFACTURER', 'FAULT_MONTH',\n",
    " #                    'INST_MONTH', 'month'], inplace=True)"
   ]
  },
  {
   "cell_type": "code",
   "execution_count": 5,
   "metadata": {
    "collapsed": false
   },
   "outputs": [
    {
     "data": {
      "text/plain": [
       "409    127096\n",
       "411     76257\n",
       "407     71985\n",
       "408     57424\n",
       "404     54128\n",
       "401     35836\n",
       "410     17851\n",
       "402     17329\n",
       "405      4914\n",
       "406      3643\n",
       "403      2377\n",
       "Name: FAULT_TYPE, dtype: int64"
      ]
     },
     "execution_count": 5,
     "metadata": {},
     "output_type": "execute_result"
    }
   ],
   "source": [
    "data['FAULT_TYPE'].value_counts()"
   ]
  },
  {
   "cell_type": "code",
   "execution_count": 6,
   "metadata": {
    "collapsed": false
   },
   "outputs": [
    {
     "data": {
      "text/plain": [
       "<matplotlib.axes._subplots.AxesSubplot at 0x7fd9eeeebe10>"
      ]
     },
     "execution_count": 6,
     "metadata": {},
     "output_type": "execute_result"
    },
    {
     "data": {
      "image/png": "[encoded data removed]",
      "text/plain": [
       "<matplotlib.figure.Figure at 0x7fd9eeeebfd0>"
      ]
     },
     "metadata": {},
     "output_type": "display_data"
    }
   ],
   "source": [
    "fig, axis0 = plt.subplots(1, 1)\n",
    "sns.countplot(x='FAULT_TYPE', data=data, ax=axis0)"
   ]
  },
  {
   "cell_type": "markdown",
   "metadata": {},
   "source": [
    "从故障类型柱状图可以看出故障类型数据不平衡，403,405,406,410较少，希望后续提供更多此类数据。"
   ]
  },
  {
   "cell_type": "markdown",
   "metadata": {},
   "source": [
    "## SYNC_ORG_NO"
   ]
  },
  {
   "cell_type": "code",
   "execution_count": 7,
   "metadata": {
    "collapsed": false,
    "scrolled": false
   },
   "outputs": [
    {
     "name": "stdout",
     "output_type": "stream",
     "text": [
      "count     468840\n",
      "unique        22\n",
      "top        33101\n",
      "freq      185047\n",
      "Name: SYNC_ORG_NO, dtype: object\n"
     ]
    }
   ],
   "source": [
    "#ORG\n",
    "print data['SYNC_ORG_NO'].describe()\n",
    "#plot\n",
    "def plot_fun(name_fea, name_fault, figsize=None, fontsize=None):\n",
    "    \n",
    "    \n",
    "    plt.figure(figsize=figsize)\n",
    "    fig, axis1 = plt.subplots(1, 1)\n",
    "    sns.countplot(x=name_fea, data=data, ax = axis1)\n",
    "    \n",
    "    plt.figure(figsize=figsize)\n",
    "    fig, axis2 = plt.subplots(1, 1)\n",
    "    c = data[name_fea].value_counts()\n",
    "    s = c.cumsum()/c.sum()\n",
    "    axis2.plot(np.arange(s.shape[0])+1, s.values*100)\n",
    "    axis2.set_title('precent of %s'%name_fea)\n",
    "    \n",
    "    plt.figure(figsize=figsize)\n",
    "    fig, axis3 = plt.subplots(1, 1)\n",
    "    sns.countplot(x=name_fea, hue=name_fault, data=data, ax=axis3)\n",
    "    plt.legend(loc = 2)\n",
    "    plt.figure(figsize=figsize)\n",
    "    fig, axis4 = plt.subplots(1, 1)\n",
    "    sns.countplot(x=name_fault, hue=name_fea, data=data, ax=axis4)\n",
    "    plt.legend(loc = 2, fontsize=fontsize)\n",
    "\n",
    "    #calculate similar score\n",
    "    from scipy.cluster.hierarchy import dendrogram, linkage    \n",
    "    #clustermap\n",
    "\n",
    "    fault_num1 = data.groupby([name_fault, name_fea])[data.columns[0]].count().unstack()\n",
    "\n",
    "    ratio = fault_num1 / fault_num1.sum()  \n",
    "\n",
    "    g1 = sns.clustermap(ratio, \n",
    "                        cmap=plt.get_cmap('RdBu'),\n",
    "                        vmax=1,\n",
    "                        vmin=-1,\n",
    "                        linewidth=0,\n",
    "                        figsize=(10, 10),\n",
    "                        row_cluster=False,\n",
    "                        col_cluster=False\n",
    "                    )\n",
    "    plt.title('fault ratio')\n",
    "\n",
    "#聚类函数\n",
    "def cluster_encoding(name):\n",
    "    global data\n",
    "    fault_num = data.groupby(['FAULT_TYPE', name])[data.columns[0]].count().unstack()\n",
    "    MAN_ratio = fault_num / fault_num.sum()\n",
    "    MAN_ratio_T = MAN_ratio.T\n",
    "\n",
    "    clusters = fclusterdata(np.array(MAN_ratio_T), 1)\n",
    "    print clusters.shape\n",
    "    clusters_mapping = {label:idx for label,idx in zip(MAN_ratio.columns, clusters)}\n",
    "    data[name] = data[name].map(clusters_mapping)\n",
    "#编码函数\n",
    "def onehot_pre(name):\n",
    "    global data\n",
    "    le  = preprocessing.LabelEncoder()\n",
    "    le.fit(data[name])\n",
    "    cat_name = list(le.classes_)\n",
    "    data[name] = le.transform(data[name])\n",
    "    return cat_name\n",
    "#plot\n",
    "if PLOT:\n",
    "    plot_fun('SYNC_ORG_NO', 'FAULT_TYPE')\n",
    "#get_dummies\n",
    "SYNC_ORG_dummies = coo_matrix(pd.get_dummies(data['SYNC_ORG_NO']))"
   ]
  },
  {
   "cell_type": "markdown",
   "metadata": {},
   "source": [
    "## 省份故障类型统计\n",
    "* 图1为省份数量分布图，有四个省的故障数据比较集中。\n",
    "* 图2为省份故障数量占比图，故障数据主要集中在前5个省，占比达90%\n",
    "* 图3为省份-故障类型数量图，每个省的故障类型分布不同，初步判断为故障类型的影响变量\n",
    "* 图4为故障类型-省份图，每种故障类型在每个省的分布不同\n",
    "* 图5为省份-故障类型占比图，可以看出每个省份故障类型比例，可以用于相似省份聚类"
   ]
  },
  {
   "cell_type": "code",
   "execution_count": 8,
   "metadata": {
    "collapsed": false,
    "scrolled": false
   },
   "outputs": [
    {
     "name": "stdout",
     "output_type": "stream",
     "text": [
      "count     468840\n",
      "unique      3123\n",
      "top        35401\n",
      "freq       25336\n",
      "Name: ORG_NO, dtype: object\n",
      "(468840, 575)\n"
     ]
    }
   ],
   "source": [
    "#ORG\n",
    "print data['ORG_NO'].describe()\n",
    "#plot\n",
    "#get_dummies\n",
    "ORG_freq = data['ORG_NO'].value_counts().index[data['ORG_NO'].value_counts().values<100]\n",
    "data['ORG_NO'] = data['ORG_NO'].replace(ORG_freq.values, 0)\n",
    "\n",
    "if PLOT:\n",
    "    plot_fun('ORG_NO', 'FAULT_TYPE', figsize=(20,6),fontsize=0.1)\n",
    "\n",
    "ORG_dummies = coo_matrix(pd.get_dummies(data['ORG_NO']))# 转化为稀疏矩阵\n",
    "#ORG_dummies.drop(['33101', '33407', '33411'], axis=1, inplace=True)\n",
    "print ORG_dummies.shape"
   ]
  },
  {
   "cell_type": "markdown",
   "metadata": {},
   "source": [
    "## 供电单位故障类型统计\n",
    "* 图1为供电单位数量分布图，分布呈现出故障在部分供电单位集中出现，均匀少量的出现在其他区域，且供电单位数量庞大。\n",
    "* 图2为供电单位故障数量占比图，故障数据主要集中在100个供电单位，占比达80%\n",
    "* 图3为供电单位-故障类型数量图，每个供电单位的故障类型分布不同，初步判断为故障类型的影响变量\n",
    "* 图4为故障类型-供电单位图，每种故障类型在每个供电单位的分布不同\n",
    "* 图5为供电单位-故障类型占比图，可以看出每个供电单位故障类型比例，可以用于相似供电单位聚类\n",
    "* 对属性做了二元变换处理"
   ]
  },
  {
   "cell_type": "markdown",
   "metadata": {},
   "source": [
    "## SPEC_CODE"
   ]
  },
  {
   "cell_type": "code",
   "execution_count": 9,
   "metadata": {
    "collapsed": false,
    "scrolled": true
   },
   "outputs": [
    {
     "data": {
      "text/plain": [
       "count     468840\n",
       "unique        34\n",
       "top          102\n",
       "freq      257260\n",
       "Name: SPEC_CODE, dtype: object"
      ]
     },
     "execution_count": 9,
     "metadata": {},
     "output_type": "execute_result"
    }
   ],
   "source": [
    "#SPEC_CODE\n",
    "data['SPEC_CODE'].describe()"
   ]
  },
  {
   "cell_type": "code",
   "execution_count": 10,
   "metadata": {
    "collapsed": false
   },
   "outputs": [
    {
     "data": {
      "text/plain": [
       "102    257260\n",
       "100     84538\n",
       "101     58873\n",
       "118     23678\n",
       "104      6180\n",
       "103      6031\n",
       "106      5548\n",
       "121      5265\n",
       "112      4609\n",
       "108      4276\n",
       "115      2966\n",
       "131      2543\n",
       "129      1648\n",
       "113      1448\n",
       "116       996\n",
       "125       846\n",
       "119       535\n",
       "109       313\n",
       "123       295\n",
       "130       222\n",
       "107       203\n",
       "122       107\n",
       "135        96\n",
       "           75\n",
       "110        67\n",
       "136        61\n",
       "126        50\n",
       "138        40\n",
       "139        29\n",
       "111        26\n",
       "127         7\n",
       "134         6\n",
       "132         2\n",
       "140         1\n",
       "Name: SPEC_CODE, dtype: int64"
      ]
     },
     "execution_count": 10,
     "metadata": {},
     "output_type": "execute_result"
    }
   ],
   "source": [
    "data['SPEC_CODE'].value_counts()"
   ]
  },
  {
   "cell_type": "code",
   "execution_count": 11,
   "metadata": {
    "collapsed": false
   },
   "outputs": [
    {
     "name": "stdout",
     "output_type": "stream",
     "text": [
      "[u'135' u' ' u'110' u'136' u'126' u'138' u'139' u'111' u'127' u'134' u'132'\n",
      " u'140']\n"
     ]
    }
   ],
   "source": [
    "if PLOT:\n",
    "    plot_fun('SPEC_CODE', 'FAULT_TYPE')\n",
    "\n",
    "spec_freq = data['SPEC_CODE'].value_counts().index[data['SPEC_CODE'].value_counts().values<100]\n",
    "#spec_mapping = {label:idx for label,idx in zip(spec_freq, np.zeros(len(spec_freq)))}\n",
    "print spec_freq.values"
   ]
  },
  {
   "cell_type": "code",
   "execution_count": 12,
   "metadata": {
    "collapsed": false
   },
   "outputs": [
    {
     "name": "stdout",
     "output_type": "stream",
     "text": [
      "102    257260\n",
      "100     84538\n",
      "101     58873\n",
      "118     23678\n",
      "104      6180\n",
      "103      6031\n",
      "106      5548\n",
      "121      5265\n",
      "112      4609\n",
      "108      4276\n",
      "115      2966\n",
      "131      2543\n",
      "129      1648\n",
      "113      1448\n",
      "116       996\n",
      "125       846\n",
      "119       535\n",
      "0         460\n",
      "109       313\n",
      "123       295\n",
      "130       222\n",
      "107       203\n",
      "122       107\n",
      "Name: SPEC_CODE, dtype: int64\n"
     ]
    }
   ],
   "source": [
    "data['SPEC_CODE'].value_counts()\n",
    "data['SPEC_CODE'] = data['SPEC_CODE'].replace(spec_freq.values, 0)\n",
    "print data['SPEC_CODE'].value_counts()"
   ]
  },
  {
   "cell_type": "code",
   "execution_count": 13,
   "metadata": {
    "collapsed": false
   },
   "outputs": [],
   "source": [
    "#get_dummies\n",
    "SPEC_dummies = coo_matrix(pd.get_dummies(data['SPEC_CODE']))"
   ]
  },
  {
   "cell_type": "markdown",
   "metadata": {},
   "source": [
    "## 设备规格故障类型统计\n",
    "* 图1为设备规格数量分布图，分布呈现出故障在部分设备规格集中出现在5种设备规格中，102（2级单相费控智能电能表（远程-开关内置））最多，其他的占比较小。\n",
    "* 图2为设备规格故障数量占比图，故障数据主要集中在5个设备规格，占比达90%以上\n",
    "* 图3为设备规格-故障类型数量图，每个供电单位的故障类型分布不同，初步判断为故障类型的影响变量\n",
    "* 图4为设备规格-供电单位图，每种故障类型在每个设备规格的分布不同\n",
    "* 图5为设备规格-故障类型占比图，可以看出每个设备规格故障类型比例，可以用于相似设备规格聚类\n",
    "* 对数量小于100的设备规格类型进行合并\n",
    "* 对属性做了二元变换处理"
   ]
  },
  {
   "cell_type": "markdown",
   "metadata": {},
   "source": [
    "# MANUFACTURER"
   ]
  },
  {
   "cell_type": "code",
   "execution_count": 14,
   "metadata": {
    "collapsed": false
   },
   "outputs": [
    {
     "name": "stdout",
     "output_type": "stream",
     "text": [
      "127\n"
     ]
    }
   ],
   "source": [
    "data['MANUFACTURER'].value_counts()\n",
    "print len(data['MANUFACTURER'].value_counts())"
   ]
  },
  {
   "cell_type": "code",
   "execution_count": 15,
   "metadata": {
    "collapsed": false
   },
   "outputs": [
    {
     "name": "stdout",
     "output_type": "stream",
     "text": [
      "73\n"
     ]
    }
   ],
   "source": [
    "spec_freq = data['MANUFACTURER'].value_counts().index[data['MANUFACTURER'].value_counts().values<500]\n",
    "data['MANUFACTURER'] = data['MANUFACTURER'].replace(spec_freq.values, 0)\n",
    "print len(data['MANUFACTURER'].value_counts())"
   ]
  },
  {
   "cell_type": "code",
   "execution_count": 16,
   "metadata": {
    "collapsed": false,
    "scrolled": true
   },
   "outputs": [],
   "source": [
    "#plot\n",
    "if PLOT:\n",
    "    plot_fun('MANUFACTURER', 'FAULT_TYPE',figsize=(20,6), fontsize=1)\n",
    "\n",
    "#get_dummies\n",
    "MAN_dummies = coo_matrix(pd.get_dummies(data['MANUFACTURER']))"
   ]
  },
  {
   "cell_type": "markdown",
   "metadata": {},
   "source": [
    "## 设备供应商故障类型统计\n",
    "* 图1为设备供应商数量分布图，设备供应商不集中，数量大于500的有78家\n",
    "* 图2为设备供应商数量占比图，供应商数量分布相对比较均匀\n",
    "* 图3为设备供应商-故障类型数量图，每个设备供应商的故障类型分布不同，初步判断为故障类型的影响变量\n",
    "* 图4为设备供应商-供电单位图，每种故障类型在每个设备供应商的分布不同\n",
    "* 图5为设备供应商-故障类型占比图，可以看出每个设备供应商故障类型比例，可以用于相似设备供应商聚类\n",
    "* 对数量小于500的设备供应商类型进行合并\n",
    "* 对属性做了二元变换处理"
   ]
  },
  {
   "cell_type": "markdown",
   "metadata": {},
   "source": [
    "# COMM_MODE"
   ]
  },
  {
   "cell_type": "code",
   "execution_count": 17,
   "metadata": {
    "collapsed": false
   },
   "outputs": [],
   "source": [
    "data['COMM_MODE'].value_counts()\n",
    "\n",
    "if PLOT:\n",
    "    plot_fun('COMM_MODE', 'FAULT_TYPE')\n",
    "\n",
    "COMM_freq = data['COMM_MODE'].value_counts().index[data['COMM_MODE'].value_counts().values<100]\n",
    "data['COMM_MODE'] = data['COMM_MODE'].replace(COMM_freq.values, 0)\n",
    "COMM_dummies = coo_matrix(pd.get_dummies(data['COMM_MODE']))# 转化为稀疏矩阵"
   ]
  },
  {
   "cell_type": "markdown",
   "metadata": {},
   "source": [
    "## 通讯方式-故障类型统计\n",
    "* 图1为通讯方式数量分布图，主要集中于四种，且确实数据较多\n",
    "* 图2为通讯方式数量占比图，通信方式数量主要集中于四种，占90%\n",
    "* 图3为通讯方式-故障类型数量图，每个通讯方式的故障类型分布不同，初步判断为故障类型的影响变量\n",
    "* 图4为通讯方式-供电单位图，每种故障类型在每个通讯方式的分布不同\n",
    "* 图5为通讯方式-故障类型占比图，可以看出每个通讯方式故障类型比例，可以用于相似通讯方式聚类\n",
    "* 对数量小于100的通讯方式类型进行合并\n",
    "* 对属性做了二元变换处理"
   ]
  },
  {
   "cell_type": "markdown",
   "metadata": {},
   "source": [
    "# 工作时长"
   ]
  },
  {
   "cell_type": "code",
   "execution_count": 18,
   "metadata": {
    "collapsed": false
   },
   "outputs": [
    {
     "name": "stderr",
     "output_type": "stream",
     "text": [
      "/home/hadoop/.local/lib/python2.7/site-packages/sklearn/preprocessing/data.py:321: DeprecationWarning: Passing 1d arrays as data is deprecated in 0.17 and will raise ValueError in 0.19. Reshape your data either using X.reshape(-1, 1) if your data has a single feature or X.reshape(1, -1) if it contains a single sample.\n",
      "  warnings.warn(DEPRECATION_MSG_1D, DeprecationWarning)\n",
      "/home/hadoop/.local/lib/python2.7/site-packages/sklearn/preprocessing/data.py:356: DeprecationWarning: Passing 1d arrays as data is deprecated in 0.17 and will raise ValueError in 0.19. Reshape your data either using X.reshape(-1, 1) if your data has a single feature or X.reshape(1, -1) if it contains a single sample.\n",
      "  warnings.warn(DEPRECATION_MSG_1D, DeprecationWarning)\n"
     ]
    }
   ],
   "source": [
    "\n",
    "# use month distribution\n",
    "if PLOT:\n",
    "    c1 = data.groupby(['work_month']).size()\n",
    "    c1.plot(kind='bar', figsize=(12, 6))\n",
    "\n",
    "    c2 = data.groupby(['work_month', 'FAULT_TYPE']).size().unstack().reindex(index=np.arange(data.month.min(), data.month.max()+1)).fillna(0)\n",
    "    c2.plot(kind='bar', figsize=(12, 12), subplots=True)\n",
    "\n",
    "    c3 = data.groupby(['work_month', 'SYNC_ORG_NO']).size().unstack().reindex(index=np.arange(data.month.min(), data.month.max()+1)).fillna(0)\n",
    "    c3.plot(kind='bar', figsize=(12, 12), subplots=True)\n",
    "    \n",
    "#归一化\n",
    "\n",
    "min_max_scaler = preprocessing.MinMaxScaler()\n",
    "data['work_month'] = min_max_scaler.fit_transform(data['work_month'])"
   ]
  },
  {
   "cell_type": "markdown",
   "metadata": {},
   "source": [
    "## 使用寿命-故障类型统计\n",
    "- 对全国故障电表使用寿命进行了统计，可看出其分布基本为正态分布，均值在37个月，符合客观规律。\n",
    "- 使用寿命-故障类型图显示了每种故障类型的使用寿命分布情况，基本为正态分布，但是其分布参数有所不同，可以用来作为分类特征。\n",
    "- 使用寿命-省份分布图，不同省份的使用寿命分布有区别，可以得出供电所对电表使用寿命有影响。"
   ]
  },
  {
   "cell_type": "markdown",
   "metadata": {
    "collapsed": true
   },
   "source": [
    "# 故障月份"
   ]
  },
  {
   "cell_type": "code",
   "execution_count": 19,
   "metadata": {
    "collapsed": false,
    "scrolled": false
   },
   "outputs": [],
   "source": [
    "data['FAULT_MONTH'] = pd.Categorical(data['FAULT_MONTH'], ordered=True)\n",
    "if PLOT:\n",
    "    m1 = data.groupby(['FAULT_MONTH', 'FAULT_TYPE']).size().unstack().reindex(index=np.arange(data.FAULT_MONTH.min(), data.FAULT_MONTH.max()+1)).fillna(0)\n",
    "    m1.plot(kind='bar', figsize=(12, 12), subplots=True)\n",
    "    plot_fun('FAULT_MONTH', 'FAULT_TYPE', fontsize=1)\n",
    "\n",
    "#get_dummies\n",
    "FAUMON_dummies = coo_matrix(pd.get_dummies(data['FAULT_MONTH']))\n",
    "\n",
    "data['INST_MONTH'] = pd.Categorical(data['INST_MONTH'], ordered=True)\n",
    "INSMON_dummies = coo_matrix(pd.get_dummies(data['INST_MONTH']))\n",
    "#"
   ]
  },
  {
   "cell_type": "markdown",
   "metadata": {},
   "source": [
    "## 故障月份-故障类型统计\n",
    "- 故障月份-故障数量统计表显示了不同月份故障数量的分布，分布基本均匀\n",
    "- 故障月份-故障类型图显示了每月的故障类型分布情况，每个月的故障类型占比基本相似，是比较弱的分类特征。\n",
    "- 故障月份-故障类型分布图，不同月份故障类型占比基本相似。"
   ]
  },
  {
   "cell_type": "markdown",
   "metadata": {},
   "source": [
    "# 库存时间\n",
    "* 库存时间 = 安装时间 - 检定时间"
   ]
  },
  {
   "cell_type": "code",
   "execution_count": 20,
   "metadata": {
    "collapsed": false
   },
   "outputs": [
    {
     "name": "stderr",
     "output_type": "stream",
     "text": [
      "/home/hadoop/.local/lib/python2.7/site-packages/sklearn/preprocessing/data.py:321: DeprecationWarning: Passing 1d arrays as data is deprecated in 0.17 and will raise ValueError in 0.19. Reshape your data either using X.reshape(-1, 1) if your data has a single feature or X.reshape(1, -1) if it contains a single sample.\n",
      "  warnings.warn(DEPRECATION_MSG_1D, DeprecationWarning)\n",
      "/home/hadoop/.local/lib/python2.7/site-packages/sklearn/preprocessing/data.py:356: DeprecationWarning: Passing 1d arrays as data is deprecated in 0.17 and will raise ValueError in 0.19. Reshape your data either using X.reshape(-1, 1) if your data has a single feature or X.reshape(1, -1) if it contains a single sample.\n",
      "  warnings.warn(DEPRECATION_MSG_1D, DeprecationWarning)\n"
     ]
    }
   ],
   "source": [
    "if PLOT:\n",
    "    c1 = data.groupby(['save_day']).size()\n",
    "    c1.plot(kind='bar', figsize=(12, 6))\n",
    "\n",
    "    c2 = data.groupby(['save_day', 'FAULT_TYPE']).size().unstack().reindex(index=np.arange(data.month.min(), data.month.max()+1)).fillna(0)\n",
    "    c2.plot(kind='bar', figsize=(12, 12), subplots=True)\n",
    "\n",
    "    c3 = data.groupby(['save_day', 'SYNC_ORG_NO']).size().unstack().reindex(index=np.arange(data.month.min(), data.month.max()+1)).fillna(0)\n",
    "    c3.plot(kind='bar', figsize=(12, 12), subplots=True)\n",
    "    \n",
    "#归一化\n",
    "min_max_scaler = preprocessing.MinMaxScaler()\n",
    "data['save_day'] = min_max_scaler.fit_transform(data['save_day'])"
   ]
  },
  {
   "cell_type": "markdown",
   "metadata": {
    "collapsed": false
   },
   "source": [
    "# 批次"
   ]
  },
  {
   "cell_type": "code",
   "execution_count": 21,
   "metadata": {
    "collapsed": false
   },
   "outputs": [
    {
     "data": {
      "text/plain": [
       "16705"
      ]
     },
     "execution_count": 21,
     "metadata": {},
     "output_type": "execute_result"
    }
   ],
   "source": [
    "len(data['ARRIVE_BATCH_NO'].value_counts())"
   ]
  },
  {
   "cell_type": "code",
   "execution_count": 22,
   "metadata": {
    "collapsed": false
   },
   "outputs": [
    {
     "name": "stdout",
     "output_type": "stream",
     "text": [
      "259\n"
     ]
    }
   ],
   "source": [
    "#cluster_encoding('ARRIVE_BATCH_NO')\n",
    "\n",
    "arr_freq = data['ARRIVE_BATCH_NO'].value_counts().index[data['ARRIVE_BATCH_NO'].value_counts().values<300]\n",
    "data['ARRIVE_BATCH_NO'] = data['ARRIVE_BATCH_NO'].replace(arr_freq.values, 0)\n",
    "print len(data['ARRIVE_BATCH_NO'].value_counts())\n",
    "\n",
    "#plot\n",
    "if PLOT:\n",
    "    plot_fun('ARRIVE_BATCH_NO', 'FAULT_TYPE',figsize=(20,6), fontsize=1)\n",
    "\n",
    "#get_dummies\n",
    "arr_dummies = coo_matrix(pd.get_dummies(data['ARRIVE_BATCH_NO']))"
   ]
  },
  {
   "cell_type": "code",
   "execution_count": 23,
   "metadata": {
    "collapsed": false
   },
   "outputs": [
    {
     "data": {
      "text/plain": [
       "0                           279964\n",
       "      2011111401              4689\n",
       "   2012090313521              3015\n",
       "DHPH005896                    2792\n",
       "   2012072613167              2534\n",
       "   2012032712302              2373\n",
       "   2012120514190              2228\n",
       "   2011080210359              2159\n",
       "DHPH006674                    2000\n",
       "DHPH005787                    1878\n",
       "DHPH201306090571              1674\n",
       "   2012031512249              1672\n",
       "   2011030908918              1623\n",
       "DHPH005064                    1565\n",
       "111040212032602               1535\n",
       "   2012011711968              1523\n",
       "   2011112911570              1471\n",
       "   2012080813282              1463\n",
       "DHPH006702                    1456\n",
       "DHPH201304010415              1437\n",
       "DHPH201309170745              1370\n",
       "   2012083113502              1353\n",
       "   2012041312419              1345\n",
       "              3403873888      1339\n",
       "   2012032012274              1273\n",
       "DHPH201308070677              1267\n",
       "   2011081610490              1261\n",
       "DHPH006034                    1248\n",
       "   2012040612376              1220\n",
       "DHPH005029                    1201\n",
       "                             ...  \n",
       "DHPH004103                     349\n",
       "111115060010607                348\n",
       "   2012032112278               344\n",
       "   2011030808911               341\n",
       "DHPH006219                     340\n",
       "       201111801               340\n",
       "4200004936.0                   336\n",
       "   2012042612529               334\n",
       "DHPH201307030616               331\n",
       "DHPH201307180642               329\n",
       "DHPH003910                     329\n",
       "   2012090713565               328\n",
       "   2012112714121               327\n",
       "   2012050312539               325\n",
       "   2012111514039               324\n",
       "2011000920914723               322\n",
       "DHPH006366                     319\n",
       "DHPH004354                     317\n",
       "DHPH002212                     316\n",
       "111115130040613                316\n",
       "            201306278182       313\n",
       "            201209178027       310\n",
       "DHPH001565                     307\n",
       "DHPH003883                     307\n",
       "211030112022201                306\n",
       "   2013030414750               302\n",
       "111115090020528                302\n",
       "DHPH006432                     300\n",
       "   2012072413150               300\n",
       "4200004931.0                   300\n",
       "Name: ARRIVE_BATCH_NO, dtype: int64"
      ]
     },
     "execution_count": 23,
     "metadata": {},
     "output_type": "execute_result"
    }
   ],
   "source": [
    "data['ARRIVE_BATCH_NO'].value_counts()"
   ]
  },
  {
   "cell_type": "code",
   "execution_count": 24,
   "metadata": {
    "collapsed": false
   },
   "outputs": [
    {
     "data": {
      "text/plain": [
       "<468840x259 sparse matrix of type '<type 'numpy.uint8'>'\n",
       "\twith 468840 stored elements in COOrdinate format>"
      ]
     },
     "execution_count": 24,
     "metadata": {},
     "output_type": "execute_result"
    }
   ],
   "source": [
    "arr_dummies"
   ]
  },
  {
   "cell_type": "code",
   "execution_count": 25,
   "metadata": {
    "collapsed": false
   },
   "outputs": [],
   "source": [
    "#整合数据\n",
    "data = data.join(pd.DataFrame(bmat([[SYNC_ORG_dummies, ORG_dummies, SPEC_dummies, MAN_dummies, FAUMON_dummies, INSMON_dummies, COMM_dummies, arr_dummies]]).toarray()))\n",
    "data.drop(['FAULT_MONTH','SYNC_ORG_NO', 'ORG_NO', 'SPEC_CODE', 'MANUFACTURER', 'FAULT_TYPE_1', 'FAULT_DATE1', \n",
    "           'INST_DATE1', 'COMM_MODE', 'INST_MONTH'], axis=1, inplace=True)\n",
    "\n",
    "del SYNC_ORG_dummies, ORG_dummies, SPEC_dummies, MAN_dummies, FAUMON_dummies, INSMON_dummies, COMM_dummies, arr_dummies"
   ]
  },
  {
   "cell_type": "markdown",
   "metadata": {},
   "source": [
    "## 机器学习算法故障预测"
   ]
  },
  {
   "cell_type": "code",
   "execution_count": 28,
   "metadata": {
    "collapsed": false,
    "scrolled": true
   },
   "outputs": [
    {
     "ename": "ValueError",
     "evalue": "unrecognized csc_matrix constructor usage",
     "output_type": "error",
     "traceback": [
      "\u001b[0;31m---------------------------------------------------------------------------\u001b[0m",
      "\u001b[0;31mValueError\u001b[0m                                Traceback (most recent call last)",
      "\u001b[0;32m<ipython-input-28-1c22dcd7bbf9>\u001b[0m in \u001b[0;36m<module>\u001b[0;34m()\u001b[0m\n\u001b[1;32m      6\u001b[0m \u001b[0mdata_X\u001b[0m \u001b[0;34m=\u001b[0m \u001b[0mdata\u001b[0m\u001b[0;34m.\u001b[0m\u001b[0mdrop\u001b[0m\u001b[0;34m(\u001b[0m\u001b[0;34m[\u001b[0m\u001b[0;34m'FAULT_TYPE'\u001b[0m\u001b[0;34m]\u001b[0m\u001b[0;34m,\u001b[0m \u001b[0maxis\u001b[0m\u001b[0;34m=\u001b[0m\u001b[0;36m1\u001b[0m\u001b[0;34m)\u001b[0m\u001b[0;34m\u001b[0m\u001b[0m\n\u001b[1;32m      7\u001b[0m \u001b[0mdata_y\u001b[0m \u001b[0;34m=\u001b[0m \u001b[0mdata\u001b[0m\u001b[0;34m[\u001b[0m\u001b[0;34m'FAULT_TYPE'\u001b[0m\u001b[0;34m]\u001b[0m\u001b[0;34m\u001b[0m\u001b[0m\n\u001b[0;32m----> 8\u001b[0;31m \u001b[0mdata_X\u001b[0m \u001b[0;34m=\u001b[0m \u001b[0mcsc_matrix\u001b[0m\u001b[0;34m(\u001b[0m\u001b[0mdata_X\u001b[0m\u001b[0;34m)\u001b[0m\u001b[0;34m\u001b[0m\u001b[0m\n\u001b[0m\u001b[1;32m      9\u001b[0m \u001b[0;31m#encode label\u001b[0m\u001b[0;34m\u001b[0m\u001b[0;34m\u001b[0m\u001b[0m\n\u001b[1;32m     10\u001b[0m \u001b[0mle\u001b[0m \u001b[0;34m=\u001b[0m \u001b[0mpreprocessing\u001b[0m\u001b[0;34m.\u001b[0m\u001b[0mLabelEncoder\u001b[0m\u001b[0;34m(\u001b[0m\u001b[0;34m)\u001b[0m\u001b[0;34m\u001b[0m\u001b[0m\n",
      "\u001b[0;32m/usr/lib/python2.7/dist-packages/scipy/sparse/compressed.pyc\u001b[0m in \u001b[0;36m__init__\u001b[0;34m(self, arg1, shape, dtype, copy)\u001b[0m\n\u001b[1;32m     65\u001b[0m             \u001b[0;32mexcept\u001b[0m\u001b[0;34m:\u001b[0m\u001b[0;34m\u001b[0m\u001b[0m\n\u001b[1;32m     66\u001b[0m                 raise ValueError(\"unrecognized %s_matrix constructor usage\" %\n\u001b[0;32m---> 67\u001b[0;31m                         self.format)\n\u001b[0m\u001b[1;32m     68\u001b[0m             \u001b[0;32mfrom\u001b[0m \u001b[0;34m.\u001b[0m\u001b[0mcoo\u001b[0m \u001b[0;32mimport\u001b[0m \u001b[0mcoo_matrix\u001b[0m\u001b[0;34m\u001b[0m\u001b[0m\n\u001b[1;32m     69\u001b[0m             \u001b[0mself\u001b[0m\u001b[0;34m.\u001b[0m\u001b[0m_set_self\u001b[0m\u001b[0;34m(\u001b[0m\u001b[0mself\u001b[0m\u001b[0;34m.\u001b[0m\u001b[0m__class__\u001b[0m\u001b[0;34m(\u001b[0m\u001b[0mcoo_matrix\u001b[0m\u001b[0;34m(\u001b[0m\u001b[0marg1\u001b[0m\u001b[0;34m,\u001b[0m \u001b[0mdtype\u001b[0m\u001b[0;34m=\u001b[0m\u001b[0mdtype\u001b[0m\u001b[0;34m)\u001b[0m\u001b[0;34m)\u001b[0m\u001b[0;34m)\u001b[0m\u001b[0;34m\u001b[0m\u001b[0m\n",
      "\u001b[0;31mValueError\u001b[0m: unrecognized csc_matrix constructor usage"
     ]
    }
   ],
   "source": [
    "from sklearn.model_selection import train_test_split\n",
    "from sklearn.metrics import classification_report,confusion_matrix\n",
    "from sklearn.model_selection import GridSearchCV\n",
    "import pickle\n",
    "from scipy.sparse import csc_matrix\n",
    "data_X = data.drop(['FAULT_TYPE'], axis=1)\n",
    "data_y = data['FAULT_TYPE']\n",
    "data_X = csc_matrix(data_X) \n",
    "#encode label\n",
    "le = preprocessing.LabelEncoder()\n",
    "data_y = le.fit_transform(data_y)\n",
    "'''\n",
    "data_X1 = coo_matrix(data_X.ix[:200000]) \n",
    "data_X2 = coo_matrix(data_X.ix[200001:400000])\n",
    "data_X3 = coo_matrix(data_X.ix[400001:])\n",
    "data_X4 = bmat([[data_X1], [data_X2], [data_X3]], format='coo')\n",
    "'''\n",
    "#del data_X1, data_X2, data_X3\n",
    "train, test, train_y, test_y = train_test_split(data_X, data_y, test_size=0.33, random_state=27)\n"
   ]
  },
  {
   "cell_type": "markdown",
   "metadata": {},
   "source": [
    "# XGBoost"
   ]
  },
  {
   "cell_type": "code",
   "execution_count": 23,
   "metadata": {
    "collapsed": false,
    "scrolled": true
   },
   "outputs": [
    {
     "name": "stdout",
     "output_type": "stream",
     "text": [
      "             precision    recall  f1-score   support\n",
      "\n",
      "        401       0.63      0.52      0.57     12447\n",
      "        402       0.82      0.69      0.75      9901\n",
      "        403       0.58      0.48      0.53      1899\n",
      "        404       0.75      0.62      0.68     27239\n",
      "        405       0.73      0.60      0.66      2509\n",
      "        406       0.67      0.42      0.52      1922\n",
      "        407       0.59      0.69      0.64     25894\n",
      "        408       0.66      0.62      0.64     20028\n",
      "        409       0.75      0.85      0.80     46013\n",
      "        410       0.65      0.65      0.65      6227\n",
      "        411       0.70      0.71      0.71     27431\n",
      "\n",
      "avg / total       0.70      0.70      0.69    181510\n",
      "\n",
      "[[ 6470   254     8   663    25    38  2347   430  1087   416   709]\n",
      " [  335  6847    22   662    15    42   918   179   390   188   303]\n",
      " [   57    65   918   325    27    51   278    30    98     9    41]\n",
      " [  690   370   182 16958   158    94  3362   760  3527   208   930]\n",
      " [   44    51    38   217  1502    25   249    95   179    14    95]\n",
      " [  104    75    91   293    33   813   289    41   100    18    65]\n",
      " [  872   174   186  1417    98    61 17882  1280  2183   305  1436]\n",
      " [  430    90   105   472    75    35  1666 12358  1982   422  2393]\n",
      " [  543   145    13  1065    39    28  1546  1384 39160   174  1916]\n",
      " [  374   144     2   161     8     6   455   209   362  4057   449]\n",
      " [  391   159    13   478    67    12  1382  2022  2958   390 19559]]\n"
     ]
    },
    {
     "data": {
      "image/png": "[encoded data removed]",
      "text/plain": [
       "<matplotlib.figure.Figure at 0x7f0bfabad090>"
      ]
     },
     "metadata": {},
     "output_type": "display_data"
    }
   ],
   "source": [
    "import xgboost as xgb\n",
    "from xgboost.sklearn import XGBClassifier\n",
    "\n",
    "TRAIN = True  #是否训练\n",
    "CV = False\n",
    "#split train set and test set\n",
    "dtrain = xgb.DMatrix(data_X, data_y)\n",
    "dtest = xgb.DMatrix(test)\n",
    "\n",
    "clf = xgb.XGBClassifier(\n",
    "    learning_rate = 0.2,\n",
    "    n_estimators = 720,\n",
    "    max_depth = 9,\n",
    "    colsample_bytree = 0.8,\n",
    "    subsample = 0.9,\n",
    "    objective = 'multi:softprob',\n",
    "    min_child_weight = 1,\n",
    "    gamma = 2,\n",
    "    seed = 27\n",
    "    )\n",
    "\n",
    "param = clf.get_xgb_params()\n",
    "param['num_class'] = 11\n",
    "if CV:\n",
    "    cvresult = xgb.cv(param, dtrain, num_boost_round=2000, nfold=3, stratified=True,\n",
    "                  metrics='merror', early_stopping_rounds=10,verbose_eval=True)\n",
    "    clf.set_params(n_estimators=cvresult.shape[0])   #set n_estimators as cv rounds\n",
    "if TRAIN:\n",
    "    clf.fit(data_X, data_y, eval_metric='merror')\n",
    "else:\n",
    "    clf = pickle.load(open(\"zhejiang_4_all.pkl\", \"rb\"))\n",
    "        \n",
    "\n",
    "ypred_xgb = clf.predict(test)\n",
    "ypred_xgb = le.inverse_transform(ypred_xgb)\n",
    "test_y_xgb = le.inverse_transform(test_y)\n",
    "#print model report:\n",
    "print(classification_report(test_y_xgb, ypred_xgb))\n",
    "print(confusion_matrix(test_y_xgb, ypred_xgb))\n",
    "\n",
    "xgb.plot_importance(clf.booster())\n",
    "pickle.dump(clf, open(\"zhejiang_4_all_jiaoliu.pkl\", \"wb\"))\n"
   ]
  },
  {
   "cell_type": "markdown",
   "metadata": {},
   "source": [
    "* 召回率(Recall)=  系统检索到的相关文件 / 系统所有相关的文件总数\n",
    "* 准确率(Precision) =  系统检索到的相关文件 / 系统所有检索到的文件总数\n",
    "* f1 = 2*Recall*Precision / (Recall+Precision)"
   ]
  },
  {
   "cell_type": "markdown",
   "metadata": {},
   "source": [
    "## KNN"
   ]
  },
  {
   "cell_type": "code",
   "execution_count": null,
   "metadata": {
    "collapsed": false
   },
   "outputs": [],
   "source": [
    "from sklearn import neighbors\n",
    "\n",
    "USE_GridSearch = False\n",
    "n_neighbors = 20\n",
    " \n",
    "clf = neighbors.KNeighborsClassifier(n_neighbors, weights='distance')\n",
    "if USE_GridSearch:\n",
    "    param_test1 = {'n_neighbors':range(20,60,10), 'weights':['uniform', 'distance']}\n",
    "    gsearch1 = GridSearchCV(estimator=clf, param_grid = param_test1, scoring='accuracy', n_jobs=-1,cv=2, verbose=True)\n",
    "    gsearch1.fit(train, train_y)\n",
    "    print gsearch1.grid_scores_, gsearch1.best_params_, gsearch1.best_score_\n",
    "    clf = gsearch1\n",
    "else:\n",
    "    clf.fit(train, train_y)\n",
    "ypred_knn = clf.predict(test)\n",
    "ypred_knn = le.inverse_transform(ypred_knn)\n",
    "test_y_knn = le.inverse_transform(test_y)\n",
    "#print model report:\n",
    "print(classification_report(test_y_knn, ypred_knn))\n",
    "print(confusion_matrix(test_y_knn, ypred_knn))\n",
    "pickle.dump(clf, open(\"zhejiang_4_KNN.pkl\", \"wb\"))"
   ]
  },
  {
   "cell_type": "markdown",
   "metadata": {},
   "source": [
    "* XGBoost能达到对智能电表第四类二级故障70%的分类准确率\n",
    "* 对于未知数据表现较差\n",
    "## 下一步计划\n",
    "\n",
    "1. 获取能反应故障类型分布规律的数据，以提高模型的泛化能力。"
   ]
  }
 ],
 "metadata": {
  "kernelspec": {
   "display_name": "Python 2",
   "language": "python",
   "name": "python2"
  },
  "language_info": {
   "codemirror_mode": {
    "name": "ipython",
    "version": 2
   },
   "file_extension": ".py",
   "mimetype": "text/x-python",
   "name": "python",
   "nbconvert_exporter": "python",
   "pygments_lexer": "ipython2",
   "version": "2.7.10"
  }
 },
 "nbformat": 4,
 "nbformat_minor": 1
}
