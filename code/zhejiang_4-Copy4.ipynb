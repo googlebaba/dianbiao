{
 "cells": [
  {
   "cell_type": "markdown",
   "metadata": {},
   "source": [
    "## 此版本将测试集中出现的情况删除，以及去除了故障月份和使用时长"
   ]
  },
  {
   "cell_type": "code",
   "execution_count": 1,
   "metadata": {
    "collapsed": true
   },
   "outputs": [],
   "source": [
    "# 浙江省第四类故障预测"
   ]
  },
  {
   "cell_type": "code",
   "execution_count": 2,
   "metadata": {
    "collapsed": true
   },
   "outputs": [],
   "source": [
    "# -*- coding: utf-8 -*-\n",
    "\n",
    "import numpy as np\n",
    "import pandas as pd\n",
    "import seaborn as sns\n",
    "from sklearn import preprocessing\n",
    "sns.set_style('whitegrid')\n",
    "import matplotlib.pyplot as plt\n",
    "from scipy.cluster.hierarchy import linkage\n",
    "from scipy.sparse import coo_matrix, bmat\n",
    "%matplotlib inline"
   ]
  },
  {
   "cell_type": "markdown",
   "metadata": {},
   "source": [
    "# Data Explore"
   ]
  },
  {
   "cell_type": "code",
   "execution_count": 3,
   "metadata": {
    "collapsed": false,
    "scrolled": false
   },
   "outputs": [
    {
     "name": "stderr",
     "output_type": "stream",
     "text": [
      "/home/hadoop/.local/lib/python2.7/site-packages/IPython/core/interactiveshell.py:2717: DtypeWarning: Columns (5) have mixed types. Specify dtype option on import or set low_memory=False.\n",
      "  interactivity=interactivity, compiler=compiler, result=result)\n"
     ]
    },
    {
     "data": {
      "text/html": [
       "<div>\n",
       "<table border=\"1\" class=\"dataframe\">\n",
       "  <thead>\n",
       "    <tr style=\"text-align: right;\">\n",
       "      <th></th>\n",
       "      <th>EQUIP_ID</th>\n",
       "      <th>FAULT_TYPE</th>\n",
       "      <th>SYNC_ORG_NO</th>\n",
       "      <th>ORG_NO</th>\n",
       "      <th>SPEC_CODE</th>\n",
       "      <th>COMM_MODE</th>\n",
       "      <th>MANUFACTURER</th>\n",
       "      <th>FAULT_DATE1</th>\n",
       "      <th>INST_DATE1</th>\n",
       "      <th>FAULT_MONTH</th>\n",
       "      <th>INST_MONTH</th>\n",
       "      <th>month</th>\n",
       "      <th>FAULT_TYPE_1</th>\n",
       "    </tr>\n",
       "  </thead>\n",
       "  <tbody>\n",
       "    <tr>\n",
       "      <th>0</th>\n",
       "      <td>120000000096143.0</td>\n",
       "      <td>408</td>\n",
       "      <td>11101</td>\n",
       "      <td>1140610</td>\n",
       "      <td>106</td>\n",
       "      <td>11</td>\n",
       "      <td>48</td>\n",
       "      <td>2015-08-10 00:00:00</td>\n",
       "      <td>2012-05-24 00:00:00</td>\n",
       "      <td>8</td>\n",
       "      <td>5</td>\n",
       "      <td>39.0</td>\n",
       "      <td>4</td>\n",
       "    </tr>\n",
       "    <tr>\n",
       "      <th>1</th>\n",
       "      <td>8000000042733340.0</td>\n",
       "      <td>408</td>\n",
       "      <td>11101</td>\n",
       "      <td>1140610</td>\n",
       "      <td>106</td>\n",
       "      <td>12</td>\n",
       "      <td>965</td>\n",
       "      <td>2015-08-24 00:00:00</td>\n",
       "      <td>2014-03-06 00:00:00</td>\n",
       "      <td>8</td>\n",
       "      <td>3</td>\n",
       "      <td>17.0</td>\n",
       "      <td>4</td>\n",
       "    </tr>\n",
       "    <tr>\n",
       "      <th>2</th>\n",
       "      <td>8000000042733830.0</td>\n",
       "      <td>408</td>\n",
       "      <td>11101</td>\n",
       "      <td>1140610</td>\n",
       "      <td>106</td>\n",
       "      <td>12</td>\n",
       "      <td>965</td>\n",
       "      <td>2015-08-24 00:00:00</td>\n",
       "      <td>2014-03-06 00:00:00</td>\n",
       "      <td>8</td>\n",
       "      <td>3</td>\n",
       "      <td>17.0</td>\n",
       "      <td>4</td>\n",
       "    </tr>\n",
       "    <tr>\n",
       "      <th>3</th>\n",
       "      <td>8000000042733390.0</td>\n",
       "      <td>408</td>\n",
       "      <td>11101</td>\n",
       "      <td>1140610</td>\n",
       "      <td>106</td>\n",
       "      <td>12</td>\n",
       "      <td>965</td>\n",
       "      <td>2015-08-21 00:00:00</td>\n",
       "      <td>2014-03-05 00:00:00</td>\n",
       "      <td>8</td>\n",
       "      <td>3</td>\n",
       "      <td>17.0</td>\n",
       "      <td>4</td>\n",
       "    </tr>\n",
       "    <tr>\n",
       "      <th>4</th>\n",
       "      <td>8000000042733460.0</td>\n",
       "      <td>408</td>\n",
       "      <td>11101</td>\n",
       "      <td>1140610</td>\n",
       "      <td>106</td>\n",
       "      <td>12</td>\n",
       "      <td>965</td>\n",
       "      <td>2015-08-24 00:00:00</td>\n",
       "      <td>2014-03-07 00:00:00</td>\n",
       "      <td>8</td>\n",
       "      <td>3</td>\n",
       "      <td>17.0</td>\n",
       "      <td>4</td>\n",
       "    </tr>\n",
       "  </tbody>\n",
       "</table>\n",
       "</div>"
      ],
      "text/plain": [
       "             EQUIP_ID FAULT_TYPE SYNC_ORG_NO   ORG_NO SPEC_CODE COMM_MODE  \\\n",
       "0   120000000096143.0        408       11101  1140610       106        11   \n",
       "1  8000000042733340.0        408       11101  1140610       106        12   \n",
       "2  8000000042733830.0        408       11101  1140610       106        12   \n",
       "3  8000000042733390.0        408       11101  1140610       106        12   \n",
       "4  8000000042733460.0        408       11101  1140610       106        12   \n",
       "\n",
       "  MANUFACTURER          FAULT_DATE1           INST_DATE1  FAULT_MONTH  \\\n",
       "0           48  2015-08-10 00:00:00  2012-05-24 00:00:00            8   \n",
       "1          965  2015-08-24 00:00:00  2014-03-06 00:00:00            8   \n",
       "2          965  2015-08-24 00:00:00  2014-03-06 00:00:00            8   \n",
       "3          965  2015-08-21 00:00:00  2014-03-05 00:00:00            8   \n",
       "4          965  2015-08-24 00:00:00  2014-03-07 00:00:00            8   \n",
       "\n",
       "  INST_MONTH  month  FAULT_TYPE_1  \n",
       "0          5   39.0             4  \n",
       "1          3   17.0             4  \n",
       "2          3   17.0             4  \n",
       "3          3   17.0             4  \n",
       "4          3   17.0             4  "
      ]
     },
     "execution_count": 3,
     "metadata": {},
     "output_type": "execute_result"
    }
   ],
   "source": [
    "data = pd.read_csv('/usr/local/hadoop/src/code/dianbiao/data/all_4.csv', dtype={0:object, 'ORG':object, 'SPEC_CODE':object, 'MANUFACTURER':object,\n",
    "                                                  'FAULT_MONTH':int, 'INST_MONTH':object, 'FAULT_QUARTER':object, \n",
    "                                                  'FAULT_TYPE': object,'SYNC_ORG_NO':object,'ORG_NO':object\n",
    "                                              \n",
    "                                                 }, encoding='utf-8')\n",
    "\n",
    "#preview the zhejiang_4 data\n",
    "data.head()"
   ]
  },
  {
   "cell_type": "code",
   "execution_count": 4,
   "metadata": {
    "collapsed": false
   },
   "outputs": [
    {
     "name": "stdout",
     "output_type": "stream",
     "text": [
      "<class 'pandas.core.frame.DataFrame'>\n",
      "RangeIndex: 550030 entries, 0 to 550029\n",
      "Data columns (total 13 columns):\n",
      "EQUIP_ID        550030 non-null object\n",
      "FAULT_TYPE      550030 non-null object\n",
      "SYNC_ORG_NO     550030 non-null object\n",
      "ORG_NO          550030 non-null object\n",
      "SPEC_CODE       550030 non-null object\n",
      "COMM_MODE       550030 non-null object\n",
      "MANUFACTURER    550030 non-null object\n",
      "FAULT_DATE1     550030 non-null object\n",
      "INST_DATE1      545006 non-null object\n",
      "FAULT_MONTH     550030 non-null int64\n",
      "INST_MONTH      550030 non-null object\n",
      "month           550030 non-null float64\n",
      "FAULT_TYPE_1    550030 non-null int64\n",
      "dtypes: float64(1), int64(2), object(10)\n",
      "memory usage: 54.6+ MB\n"
     ]
    }
   ],
   "source": [
    "data.info()"
   ]
  },
  {
   "cell_type": "markdown",
   "metadata": {},
   "source": [
    "# feature preprocessing"
   ]
  },
  {
   "cell_type": "code",
   "execution_count": 5,
   "metadata": {
    "collapsed": false
   },
   "outputs": [],
   "source": [
    "#delete QUIP_ID\n",
    "#data.drop([data.columns[0]], axis=1, inplace=True)"
   ]
  },
  {
   "cell_type": "code",
   "execution_count": 6,
   "metadata": {
    "collapsed": false
   },
   "outputs": [],
   "source": [
    "data.drop([data.columns[0]], axis=1, inplace=True)\n",
    "#data.drop_duplicates(['FAULT_TYPE', 'ORG_NO', 'SPEC_CODE', 'COMM_MODE', 'MANUFACTURER', 'FAULT_MONTH',\n",
    " #                    'INST_MONTH', 'month'], inplace=True)"
   ]
  },
  {
   "cell_type": "code",
   "execution_count": 7,
   "metadata": {
    "collapsed": false
   },
   "outputs": [
    {
     "name": "stdout",
     "output_type": "stream",
     "text": [
      "<class 'pandas.core.frame.DataFrame'>\n",
      "RangeIndex: 550030 entries, 0 to 550029\n",
      "Data columns (total 12 columns):\n",
      "FAULT_TYPE      550030 non-null object\n",
      "SYNC_ORG_NO     550030 non-null object\n",
      "ORG_NO          550030 non-null object\n",
      "SPEC_CODE       550030 non-null object\n",
      "COMM_MODE       550030 non-null object\n",
      "MANUFACTURER    550030 non-null object\n",
      "FAULT_DATE1     550030 non-null object\n",
      "INST_DATE1      545006 non-null object\n",
      "FAULT_MONTH     550030 non-null int64\n",
      "INST_MONTH      550030 non-null object\n",
      "month           550030 non-null float64\n",
      "FAULT_TYPE_1    550030 non-null int64\n",
      "dtypes: float64(1), int64(2), object(9)\n",
      "memory usage: 50.4+ MB\n"
     ]
    },
    {
     "data": {
      "text/plain": [
       "409    138923\n",
       "404     83185\n",
       "411     83173\n",
       "407     79011\n",
       "408     60459\n",
       "401     37631\n",
       "402     29698\n",
       "410     18601\n",
       "405      7637\n",
       "406      5895\n",
       "403      5817\n",
       "Name: FAULT_TYPE, dtype: int64"
      ]
     },
     "execution_count": 7,
     "metadata": {},
     "output_type": "execute_result"
    }
   ],
   "source": [
    "data.info()\n",
    "data['FAULT_TYPE'].value_counts()"
   ]
  },
  {
   "cell_type": "code",
   "execution_count": 8,
   "metadata": {
    "collapsed": false
   },
   "outputs": [
    {
     "data": {
      "text/plain": [
       "<matplotlib.axes._subplots.AxesSubplot at 0x7fc10fbc8390>"
      ]
     },
     "execution_count": 8,
     "metadata": {},
     "output_type": "execute_result"
    },
    {
     "data": {
      "image/png": "[encoded data removed]",
      "text/plain": [
       "<matplotlib.figure.Figure at 0x7fc10c77ce10>"
      ]
     },
     "metadata": {},
     "output_type": "display_data"
    }
   ],
   "source": [
    "fig, axis0 = plt.subplots(1, 1)\n",
    "sns.countplot(x='FAULT_TYPE', data=data, ax=axis0)"
   ]
  },
  {
   "cell_type": "markdown",
   "metadata": {},
   "source": [
    "从故障类型柱状图可以看出故障类型数据不平衡，402-406较少，407-411较多"
   ]
  },
  {
   "cell_type": "markdown",
   "metadata": {},
   "source": [
    "## SYNC_ORG_NO"
   ]
  },
  {
   "cell_type": "code",
   "execution_count": 9,
   "metadata": {
    "collapsed": false,
    "scrolled": false
   },
   "outputs": [
    {
     "name": "stdout",
     "output_type": "stream",
     "text": [
      "count     550030\n",
      "unique        15\n",
      "top        33101\n",
      "freq      190996\n",
      "Name: SYNC_ORG_NO, dtype: object\n"
     ]
    }
   ],
   "source": [
    "#ORG\n",
    "print data['SYNC_ORG_NO'].describe()\n",
    "#plot\n",
    "def plot_fun(name_fea, name_fault, fontsize=None):\n",
    "    \n",
    "    fig, axis1 = plt.subplots(1, 1)\n",
    "    sns.countplot(x=name_fea, data=data, ax = axis1)\n",
    "\n",
    "    fig, axis2 = plt.subplots(1, 1)\n",
    "    c = data[name_fea].value_counts()\n",
    "    s = c.cumsum()/c.sum()\n",
    "    axis2.plot(np.arange(s.shape[0])+1, s.values*100)\n",
    "    axis2.set_title('precent of %s'%name_fea)\n",
    "\n",
    "    fig, axis3 = plt.subplots(1, 1)\n",
    "    sns.countplot(x=name_fea, hue=name_fault, data=data, ax=axis3)\n",
    "    plt.legend(loc = 2)\n",
    "\n",
    "    fig, axis4 = plt.subplots(1, 1)\n",
    "    sns.countplot(x=name_fault, hue=name_fea, data=data, ax=axis4)\n",
    "    plt.legend(loc = 2, fontsize=fontsize)\n",
    "\n",
    "    #calculate similar score\n",
    "    from scipy.cluster.hierarchy import dendrogram, linkage    \n",
    "    #clustermap\n",
    "\n",
    "    fault_num1 = data.groupby([name_fault, name_fea])[data.columns[0]].count().unstack()\n",
    "\n",
    "    ratio = fault_num1 / fault_num1.sum()  \n",
    "\n",
    "    g1 = sns.clustermap(ratio, \n",
    "                        cmap=plt.get_cmap('RdBu'),\n",
    "                        vmax=1,\n",
    "                        vmin=-1,\n",
    "                        linewidth=0,\n",
    "                        figsize=(10, 10),\n",
    "                        row_cluster=False,\n",
    "                        col_cluster=False\n",
    "                    )\n",
    "    plt.title('fault ratio')\n",
    "\n",
    "#plot\n",
    "#plot_fun('SYNC_ORG_NO', 'FAULT_TYPE')\n",
    "#One-hot encoder\n",
    "def onehot_pre(name):\n",
    "    global data\n",
    "    le  = preprocessing.LabelEncoder()\n",
    "    le.fit(data[name])\n",
    "    cat_name = list(le.classes_)\n",
    "    data[name] = le.transform(data[name])\n",
    "    return cat_name\n",
    "name_sync_org_no = onehot_pre('SYNC_ORG_NO')"
   ]
  },
  {
   "cell_type": "code",
   "execution_count": 10,
   "metadata": {
    "collapsed": false,
    "scrolled": false
   },
   "outputs": [],
   "source": [
    "\n",
    "#ORG\n",
    "data['ORG_NO'].describe()\n",
    "\n",
    "#plot_fun('ORG_NO', 'FAULT_TYPE')\n",
    "\n",
    "ORG_freq = data['ORG_NO'].value_counts().index[data['ORG_NO'].value_counts().values<100]\n",
    "data['ORG_NO'] = data['ORG_NO'].replace(ORG_freq.values, 0)\n",
    "\n",
    "name_org_no = onehot_pre('ORG_NO')"
   ]
  },
  {
   "cell_type": "markdown",
   "metadata": {},
   "source": [
    "## ORG故障类型统计\n",
    "- 各个地区的故障数量不同，前8个到95%\n",
    "- 从ORG与FAULT_TYPE统计图可以看出，不同地区的故障类型分布有所不同，所以认为ORG对于FAULT_TYPE类型的识别是有用的。\n",
    "- 故障类型分布图显示了每个地区的故障类型占比\n",
    "- 有几个地区故障类型数据较少[33101,33407,33411]，对于故障类型识别用处不大，删除\n",
    "- 对属性做了二元变换处理"
   ]
  },
  {
   "cell_type": "markdown",
   "metadata": {},
   "source": [
    "## SPEC_CODE"
   ]
  },
  {
   "cell_type": "code",
   "execution_count": 11,
   "metadata": {
    "collapsed": false,
    "scrolled": true
   },
   "outputs": [
    {
     "data": {
      "text/plain": [
       "count     550030\n",
       "unique        35\n",
       "top          102\n",
       "freq      259992\n",
       "Name: SPEC_CODE, dtype: object"
      ]
     },
     "execution_count": 11,
     "metadata": {},
     "output_type": "execute_result"
    }
   ],
   "source": [
    "#SPEC_CODE\n",
    "data['SPEC_CODE'].describe()"
   ]
  },
  {
   "cell_type": "code",
   "execution_count": 12,
   "metadata": {
    "collapsed": false
   },
   "outputs": [
    {
     "data": {
      "text/plain": [
       "102    259992\n",
       "100     96813\n",
       "101     68483\n",
       "104     51859\n",
       "118     25823\n",
       "108     11281\n",
       "103      6217\n",
       "121      6153\n",
       "112      5015\n",
       "106      3497\n",
       "115      3101\n",
       "113      2892\n",
       "131      2560\n",
       "129      1631\n",
       "119      1157\n",
       "125       849\n",
       "116       748\n",
       "122       411\n",
       "109       312\n",
       "123       295\n",
       "130       222\n",
       "107       204\n",
       "136       151\n",
       "138        89\n",
       "           75\n",
       "135        58\n",
       "126        51\n",
       "139        31\n",
       "111        26\n",
       "127        13\n",
       "134         8\n",
       "141         7\n",
       "105         3\n",
       "132         2\n",
       "140         1\n",
       "Name: SPEC_CODE, dtype: int64"
      ]
     },
     "execution_count": 12,
     "metadata": {},
     "output_type": "execute_result"
    }
   ],
   "source": [
    "data['SPEC_CODE'].value_counts()"
   ]
  },
  {
   "cell_type": "code",
   "execution_count": 13,
   "metadata": {
    "collapsed": false
   },
   "outputs": [
    {
     "name": "stdout",
     "output_type": "stream",
     "text": [
      "[u'122' u'109' u'123' u'130' u'107' u'136' u'138' u' ' u'135' u'126' u'139'\n",
      " u'111' u'127' u'134' u'141' u'105' u'132' u'140']\n"
     ]
    }
   ],
   "source": [
    "spec_freq = data['SPEC_CODE'].value_counts().index[data['SPEC_CODE'].value_counts().values<500]\n",
    "#spec_mapping = {label:idx for label,idx in zip(spec_freq, np.zeros(len(spec_freq)))}\n",
    "print spec_freq.values"
   ]
  },
  {
   "cell_type": "code",
   "execution_count": 14,
   "metadata": {
    "collapsed": false
   },
   "outputs": [
    {
     "name": "stdout",
     "output_type": "stream",
     "text": [
      "102    259992\n",
      "100     96813\n",
      "101     68483\n",
      "104     51859\n",
      "118     25823\n",
      "108     11281\n",
      "103      6217\n",
      "121      6153\n",
      "112      5015\n",
      "106      3497\n",
      "115      3101\n",
      "113      2892\n",
      "131      2560\n",
      "0        1959\n",
      "129      1631\n",
      "119      1157\n",
      "125       849\n",
      "116       748\n",
      "Name: SPEC_CODE, dtype: int64\n"
     ]
    }
   ],
   "source": [
    "data['SPEC_CODE'].value_counts()\n",
    "data['SPEC_CODE'] = data['SPEC_CODE'].replace(spec_freq.values, 0)\n",
    "print data['SPEC_CODE'].value_counts()"
   ]
  },
  {
   "cell_type": "code",
   "execution_count": 15,
   "metadata": {
    "collapsed": false
   },
   "outputs": [],
   "source": [
    "#plot\n",
    "#plot_fun('SPEC_CODE', 'FAULT_TYPE')\n",
    "name_spec_code = onehot_pre('SPEC_CODE')"
   ]
  },
  {
   "cell_type": "markdown",
   "metadata": {},
   "source": [
    "## SPEC_CODE故障类型统计\n",
    "- SPEC_CODE故障类型同样呈现分布不均匀状态\n",
    "- 前两类设备类型数据达到98%\n",
    "- 每种故障类型的SPEC_CODE基本相似\n",
    "- 故障类型分布图显示了每种SPEC_CODE故障类型占比\n",
    "- 删除极少出现的SPEC_CODE故障类型\n",
    "- 对属性进行二元变换"
   ]
  },
  {
   "cell_type": "markdown",
   "metadata": {},
   "source": [
    "# MANUFACTURER"
   ]
  },
  {
   "cell_type": "code",
   "execution_count": 16,
   "metadata": {
    "collapsed": false
   },
   "outputs": [
    {
     "data": {
      "text/plain": [
       "845      32859\n",
       "965      27525\n",
       "268      27350\n",
       "1118     27033\n",
       "136      26862\n",
       "10127    22698\n",
       "1043     22062\n",
       "417      17677\n",
       "578      17432\n",
       "10010    16900\n",
       "1133     15098\n",
       "924      13733\n",
       "10007    13284\n",
       "10001    12131\n",
       "25       10548\n",
       "826      10487\n",
       "262       9426\n",
       "719       9314\n",
       "686       9074\n",
       "1086      8603\n",
       "306       8438\n",
       "21        7847\n",
       "954       7832\n",
       "10021     7634\n",
       "10009     7459\n",
       "588       7399\n",
       "243       7360\n",
       "446       6882\n",
       "926       6847\n",
       "1064      6715\n",
       "         ...  \n",
       "317        131\n",
       "102        124\n",
       "10532      102\n",
       "400         88\n",
       "235         81\n",
       "1108        79\n",
       "834         77\n",
       "10492       70\n",
       "1181        44\n",
       "906         40\n",
       "10756       36\n",
       "1111        33\n",
       "10002       27\n",
       "10783       20\n",
       "10267        9\n",
       "204          7\n",
       "10149        6\n",
       "10428        6\n",
       "10542        6\n",
       "10741        3\n",
       "90           2\n",
       "10186        2\n",
       "10154        1\n",
       "10008        1\n",
       "10787        1\n",
       "10159        1\n",
       "1155         1\n",
       "10545        1\n",
       "10066        1\n",
       "10014        1\n",
       "Name: MANUFACTURER, dtype: int64"
      ]
     },
     "execution_count": 16,
     "metadata": {},
     "output_type": "execute_result"
    }
   ],
   "source": [
    "data['MANUFACTURER'].value_counts()"
   ]
  },
  {
   "cell_type": "code",
   "execution_count": 17,
   "metadata": {
    "collapsed": false
   },
   "outputs": [
    {
     "name": "stdout",
     "output_type": "stream",
     "text": [
      "78\n"
     ]
    }
   ],
   "source": [
    "spec_freq = data['MANUFACTURER'].value_counts().index[data['MANUFACTURER'].value_counts().values<500]\n",
    "data['MANUFACTURER'] = data['MANUFACTURER'].replace(spec_freq.values, 0)\n",
    "print len(data['MANUFACTURER'].value_counts())"
   ]
  },
  {
   "cell_type": "code",
   "execution_count": 18,
   "metadata": {
    "collapsed": false,
    "scrolled": true
   },
   "outputs": [],
   "source": [
    "#plot\n",
    "#plot_fun('MANUFACTURER', 'FAULT_TYPE', fontsize=1)\n",
    "\n",
    "#cluster encoding\n",
    "from scipy.cluster.hierarchy import fclusterdata\n",
    "def cluster_encoding(name):\n",
    "    global data\n",
    "    fault_num = data.groupby(['FAULT_TYPE', name])[data.columns[0]].count().unstack()\n",
    "    MAN_ratio = fault_num / fault_num.sum()\n",
    "    MAN_ratio_T = MAN_ratio.T\n",
    "\n",
    "    clusters = fclusterdata(np.array(MAN_ratio_T), 1)\n",
    "    clusters_mapping = {label:idx for label,idx in zip(MAN_ratio.columns, clusters)}\n",
    "    data[name] = data[name].map(clusters_mapping)\n",
    "\n",
    "#对供应商进行相似度聚类\n",
    "cluster_encoding('MANUFACTURER')\n",
    "name_man = onehot_pre('MANUFACTURER')"
   ]
  },
  {
   "cell_type": "markdown",
   "metadata": {},
   "source": [
    "## MANUFACTURER故障类型统计\n",
    "- MANUFACTURER故障类型同样呈现分布不均匀状态,浙江省一共有80家供应商，电表数前30家占90%\n",
    "- 前两类故障类型数据达到98%\n",
    "- 每种故障类型的供应商分布不同\n",
    "- 故障类型分布图显示了每种供应商故障类型占比，应用分层聚类方法将具有相似故障类型分布的供应商进行合并\n",
    "- 对属性进行二元变换"
   ]
  },
  {
   "cell_type": "markdown",
   "metadata": {},
   "source": [
    "# MONTH"
   ]
  },
  {
   "cell_type": "code",
   "execution_count": 19,
   "metadata": {
    "collapsed": false
   },
   "outputs": [
    {
     "name": "stderr",
     "output_type": "stream",
     "text": [
      "/home/hadoop/.local/lib/python2.7/site-packages/sklearn/preprocessing/data.py:321: DeprecationWarning: Passing 1d arrays as data is deprecated in 0.17 and will raise ValueError in 0.19. Reshape your data either using X.reshape(-1, 1) if your data has a single feature or X.reshape(1, -1) if it contains a single sample.\n",
      "  warnings.warn(DEPRECATION_MSG_1D, DeprecationWarning)\n",
      "/home/hadoop/.local/lib/python2.7/site-packages/sklearn/preprocessing/data.py:356: DeprecationWarning: Passing 1d arrays as data is deprecated in 0.17 and will raise ValueError in 0.19. Reshape your data either using X.reshape(-1, 1) if your data has a single feature or X.reshape(1, -1) if it contains a single sample.\n",
      "  warnings.warn(DEPRECATION_MSG_1D, DeprecationWarning)\n"
     ]
    }
   ],
   "source": [
    "'''\n",
    "# use month distribution\n",
    "c1 = data.groupby(['month']).size()\n",
    "c1.plot(kind='bar', figsize=(12, 6))\n",
    "\n",
    "c2 = data.groupby(['month', 'FAULT_TYPE']).size().unstack().reindex(index=np.arange(data.month.min(), data.month.max()+1)).fillna(0)\n",
    "c2.plot(kind='bar', figsize=(12, 12), subplots=True)\n",
    "\n",
    "c3 = data.groupby(['month', 'SYNC_ORG_NO']).size().unstack().reindex(index=np.arange(data.month.min(), data.month.max()+1)).fillna(0)\n",
    "c3.plot(kind='bar', figsize=(12, 12), subplots=True)\n",
    "'''\n",
    "from sklearn import preprocessing\n",
    "min_max_scaler = preprocessing.MinMaxScaler()\n",
    "data['month'] = min_max_scaler.fit_transform(data['month'])"
   ]
  },
  {
   "cell_type": "markdown",
   "metadata": {},
   "source": [
    "## 使用寿命-故障类型统计\n",
    "- 对浙江省故障电表使用寿命进行了统计，可看出其分布基本为正态分布，符合客观规律。\n",
    "- 使用寿命-故障类型图显示了每种故障类型的使用寿命分布情况，基本为正态分布，但是其分布参数有所不同，可以用来作为分类特征。\n",
    "- 使用寿命-供电所分布图，不同供电所的使用寿命分布有区别，可以得出供电所对电表使用寿命有影响。"
   ]
  },
  {
   "cell_type": "markdown",
   "metadata": {
    "collapsed": true
   },
   "source": [
    "## FAULT_MONTH"
   ]
  },
  {
   "cell_type": "code",
   "execution_count": 20,
   "metadata": {
    "collapsed": false,
    "scrolled": false
   },
   "outputs": [],
   "source": [
    "data['FAULT_MONTH'] = pd.Categorical(data['FAULT_MONTH'], ordered=True)\n",
    "\n",
    "#m1 = data.groupby(['FAULT_MONTH', 'FAULT_TYPE']).size().unstack().reindex(index=np.arange(data.FAULT_MONTH.min(), data.FAULT_MONTH.max()+1)).fillna(0)\n",
    "#m1.plot(kind='bar', figsize=(12, 12), subplots=True)\n",
    "#plot_fun('FAULT_MONTH', 'FAULT_TYPE', fontsize=1)\n",
    "'''\n",
    "fault_num4 = data.groupby(['FAULT_TYPE', 'FAULT_MONTH'])[data.columns[0]].count().unstack()\n",
    "\n",
    "FAUMON_ratio = fault_num4 / fault_num4.sum()\n",
    "FAUMON_ratio_T = FAUMON_ratio.T\n",
    "\n",
    "clusters = fclusterdata(np.array(FAUMON_ratio_T), 0.70)\n",
    "clusters = clusters+20\n",
    "print clusters\n",
    "\n",
    "clusters_mapping = {label:idx for label,idx in zip(FAUMON_ratio.columns, clusters)}\n",
    "\n",
    "\n",
    "data['FAULT_MONTH'] = data['FAULT_MONTH'].map(clusters_mapping)\n",
    "'''\n",
    "#get_dummies\n",
    "name_fault_month = onehot_pre('FAULT_MONTH')\n",
    "\n",
    "data['INST_MONTH'] = pd.Categorical(data['INST_MONTH'], ordered=True)\n",
    "name_inst_month = onehot_pre('INST_MONTH')"
   ]
  },
  {
   "cell_type": "markdown",
   "metadata": {},
   "source": [
    "## 故障月份-故障类型统计\n",
    "- 故障月份-故障数量统计表显示了不同月份故障数量的分布，分布不是很均匀\n",
    "- 故障月份-故障类型图显示了每月的故障类型分布情况，每个月的故障类型占比基本相似，是比较弱的分类特征。\n",
    "- 故障月份-故障类型分布图，不同月份故障类型占比基本相似。"
   ]
  },
  {
   "cell_type": "code",
   "execution_count": 21,
   "metadata": {
    "collapsed": false
   },
   "outputs": [],
   "source": [
    "data['COMM_MODE'].value_counts()\n",
    "#plot_fun('COMM_MODE', 'FAULT_TYPE')\n",
    "COMM_freq = data['COMM_MODE'].value_counts().index[data['COMM_MODE'].value_counts().values<100]\n",
    "data['COMM_MODE'] = data['COMM_MODE'].replace(COMM_freq.values, 0)\n",
    "name_comm_mode = onehot_pre('COMM_MODE')"
   ]
  },
  {
   "cell_type": "code",
   "execution_count": 22,
   "metadata": {
    "collapsed": false
   },
   "outputs": [
    {
     "data": {
      "text/plain": [
       "Index([u'FAULT_TYPE', u'SYNC_ORG_NO', u'ORG_NO', u'SPEC_CODE', u'COMM_MODE',\n",
       "       u'MANUFACTURER', u'FAULT_DATE1', u'INST_DATE1', u'FAULT_MONTH',\n",
       "       u'INST_MONTH', u'month', u'FAULT_TYPE_1'],\n",
       "      dtype='object')"
      ]
     },
     "execution_count": 22,
     "metadata": {},
     "output_type": "execute_result"
    }
   ],
   "source": [
    "data.columns"
   ]
  },
  {
   "cell_type": "code",
   "execution_count": 23,
   "metadata": {
    "collapsed": false
   },
   "outputs": [
    {
     "name": "stdout",
     "output_type": "stream",
     "text": [
      "0\n",
      "10000\n",
      "20000\n",
      "30000\n",
      "40000\n",
      "50000\n",
      "60000\n",
      "70000\n",
      "80000\n",
      "90000\n",
      "100000\n",
      "110000\n",
      "120000\n",
      "130000\n",
      "140000\n",
      "150000\n",
      "160000\n",
      "170000\n",
      "180000\n",
      "190000\n",
      "200000\n",
      "210000\n",
      "220000\n",
      "(220012, 7)\n",
      "(28446, 7)\n"
     ]
    },
    {
     "name": "stderr",
     "output_type": "stream",
     "text": [
      "/home/hadoop/.local/lib/python2.7/site-packages/ipykernel/__main__.py:22: SettingWithCopyWarning: \n",
      "A value is trying to be set on a copy of a slice from a DataFrame\n",
      "\n",
      "See the caveats in the documentation: http://pandas.pydata.org/pandas-docs/stable/indexing.html#indexing-view-versus-copy\n",
      "/home/hadoop/.local/lib/python2.7/site-packages/ipykernel/__main__.py:26: SettingWithCopyWarning: \n",
      "A value is trying to be set on a copy of a slice from a DataFrame\n",
      "\n",
      "See the caveats in the documentation: http://pandas.pydata.org/pandas-docs/stable/indexing.html#indexing-view-versus-copy\n",
      "/home/hadoop/.local/lib/python2.7/site-packages/ipykernel/__main__.py:27: SettingWithCopyWarning: \n",
      "A value is trying to be set on a copy of a slice from a DataFrame\n",
      "\n",
      "See the caveats in the documentation: http://pandas.pydata.org/pandas-docs/stable/indexing.html#indexing-view-versus-copy\n"
     ]
    }
   ],
   "source": [
    "from sklearn.model_selection import train_test_split                             \n",
    "import gc                                                                        \n",
    "gc.enable()                                                                      \n",
    "gc.collect()                                                                     \n",
    "data.drop(['month', 'FAULT_DATE1', 'INST_DATE1', 'FAULT_MONTH', 'FAULT_TYPE_1'], axis=1, inplace=True)\n",
    "data_y = data['FAULT_TYPE']                                                      \n",
    "data.fillna(0, inplace=True)                                                     \n",
    "#data.astype({'SYNC_ORG_NO':int,'ORG_NO':int, 'SPEC_CODE':int, 'COMM_MODE':int,'MANUFACTURER':int,'INST_MONTH':int})\n",
    "enc = preprocessing.OneHotEncoder()                                              \n",
    "enc.fit(data.drop('FAULT_TYPE',axis=1))                                          \n",
    "train, test= train_test_split(data, test_size=0.4, random_state=27, stratify=data_y)\n",
    "train.reset_index(drop=True, inplace=True)                                       \n",
    "test.reset_index(drop=True, inplace=True)                                        \n",
    "gc.collect()                                                                     \n",
    "l = []                                                                           \n",
    "for n in range(test.shape[0]):                                                   \n",
    "    if len(np.where(np.all(np.array(test)[n] == np.array(train), axis=1))[0]):   \n",
    "        l.append(n)                                                              \n",
    "    if (n%10000)==0:                                                             \n",
    "        print n                                                                  \n",
    "print test.shape                                                                 \n",
    "test.drop(l, inplace=True)                                                       \n",
    "print test.shape                                                                 \n",
    "train_y = train['FAULT_TYPE']                                                    \n",
    "test_y = test['FAULT_TYPE']                                                      \n",
    "train.drop(['FAULT_TYPE'], axis=1, inplace=True)                                 \n",
    "test.drop(['FAULT_TYPE'], axis=1, inplace=True)                                  \n",
    "train_dummies = enc.transform(train)                                             \n",
    "test_dummies = enc.transform(test)                                               \n",
    "del data, train, test        "
   ]
  },
  {
   "cell_type": "markdown",
   "metadata": {},
   "source": [
    "## 机器学习算法故障预测"
   ]
  },
  {
   "cell_type": "code",
   "execution_count": 24,
   "metadata": {
    "collapsed": false
   },
   "outputs": [],
   "source": [
    "from sklearn.metrics import classification_report,confusion_matrix\n",
    "from sklearn.model_selection import GridSearchCV\n",
    "import pickle\n",
    "from scipy.sparse import coo_matrix\n",
    "\n",
    "#encode label\n",
    "le = preprocessing.LabelEncoder()\n",
    "le.fit(data_y)\n",
    "train_y = le.transform(train_y)\n",
    "test_y = le.transform(test_y)\n"
   ]
  },
  {
   "cell_type": "code",
   "execution_count": 25,
   "metadata": {
    "collapsed": false
   },
   "outputs": [
    {
     "name": "stdout",
     "output_type": "stream",
     "text": [
      "[0]\ttrain-merror:0.520502+0.0120117\ttest-merror:0.522696+0.0107955\n",
      "[1]\ttrain-merror:0.49171+0.00369851\ttest-merror:0.494037+0.00591243\n",
      "[2]\ttrain-merror:0.478294+0.00211282\ttest-merror:0.48131+0.00471073\n",
      "[3]\ttrain-merror:0.470726+0.000536567\ttest-merror:0.474013+0.00324894\n",
      "[4]\ttrain-merror:0.465509+0.00109276\ttest-merror:0.469159+0.00352828\n",
      "[5]\ttrain-merror:0.463878+0.000941747\ttest-merror:0.467468+0.00340193\n",
      "[6]\ttrain-merror:0.461663+0.00127377\ttest-merror:0.465441+0.00339788\n",
      "[7]\ttrain-merror:0.459108+0.00165962\ttest-merror:0.463144+0.00361034\n",
      "[8]\ttrain-merror:0.45768+0.00217677\ttest-merror:0.461969+0.0041767\n",
      "[9]\ttrain-merror:0.455996+0.000742574\ttest-merror:0.460435+0.00249389\n",
      "[10]\ttrain-merror:0.453607+0.000438785\ttest-merror:0.458236+0.0021217\n",
      "[11]\ttrain-merror:0.452517+0.00103141\ttest-merror:0.457305+0.00166713\n",
      "[12]\ttrain-merror:0.450833+0.00104818\ttest-merror:0.455615+0.00165076\n",
      "[13]\ttrain-merror:0.44922+0.000683814\ttest-merror:0.454475+0.00132741\n",
      "[14]\ttrain-merror:0.447544+0.00115706\ttest-merror:0.452696+0.000954873\n",
      "[15]\ttrain-merror:0.445946+0.000571957\ttest-merror:0.451454+0.00120331\n",
      "[16]\ttrain-merror:0.444632+0.000479638\ttest-merror:0.450184+0.00110268\n",
      "[17]\ttrain-merror:0.443284+0.0011308\ttest-merror:0.449085+0.00102261\n",
      "[18]\ttrain-merror:0.442038+0.00148051\ttest-merror:0.448094+0.000858943\n",
      "[19]\ttrain-merror:0.440636+0.00177801\ttest-merror:0.446742+0.000755964\n",
      "[20]\ttrain-merror:0.439618+0.00164721\ttest-merror:0.446+0.00126896\n",
      "[21]\ttrain-merror:0.438551+0.00160304\ttest-merror:0.4449+0.00085673\n",
      "[22]\ttrain-merror:0.437417+0.0017413\ttest-merror:0.443809+0.000668888\n",
      "[23]\ttrain-merror:0.436131+0.00115251\ttest-merror:0.442655+0.000766252\n",
      "[24]\ttrain-merror:0.435461+0.00115911\ttest-merror:0.442015+0.000939257\n",
      "[25]\ttrain-merror:0.43442+0.00115815\ttest-merror:0.441003+0.000447679\n",
      "[26]\ttrain-merror:0.43383+0.00130795\ttest-merror:0.440476+0.000365149\n",
      "[27]\ttrain-merror:0.432994+0.00116666\ttest-merror:0.439685+0.000298577\n",
      "[28]\ttrain-merror:0.432311+0.000966371\ttest-merror:0.439161+0.00082988\n",
      "[29]\ttrain-merror:0.431367+0.00130385\ttest-merror:0.43837+0.000501805\n",
      "[30]\ttrain-merror:0.430176+0.00160702\ttest-merror:0.437488+0.000471581\n",
      "[31]\ttrain-merror:0.429682+0.00147717\ttest-merror:0.436837+0.000689702\n",
      "[32]\ttrain-merror:0.428933+0.00158355\ttest-merror:0.436379+0.000725647\n",
      "[33]\ttrain-merror:0.428287+0.00169089\ttest-merror:0.435755+0.000810765\n",
      "[34]\ttrain-merror:0.427463+0.00156927\ttest-merror:0.434961+0.000593077\n",
      "[35]\ttrain-merror:0.426484+0.00141063\ttest-merror:0.434028+0.000252964\n",
      "[36]\ttrain-merror:0.426454+0.00118553\ttest-merror:0.434164+8.93769e-05\n",
      "[37]\ttrain-merror:0.426098+0.00124334\ttest-merror:0.433773+0.000143588\n",
      "[38]\ttrain-merror:0.425586+0.0013011\ttest-merror:0.433201+0.000276447\n",
      "[39]\ttrain-merror:0.424939+0.00130624\ttest-merror:0.432522+0.000119628\n",
      "[40]\ttrain-merror:0.424384+0.00140325\ttest-merror:0.432152+0.000101723\n",
      "[41]\ttrain-merror:0.423863+0.00130476\ttest-merror:0.431758+0.000418073\n",
      "[42]\ttrain-merror:0.423568+0.0014761\ttest-merror:0.431374+0.00054295\n",
      "[43]\ttrain-merror:0.422986+0.00146185\ttest-merror:0.43097+0.00037165\n",
      "[44]\ttrain-merror:0.422686+0.00160681\ttest-merror:0.43064+0.00023706\n",
      "[45]\ttrain-merror:0.422106+0.00168894\ttest-merror:0.430146+0.000247194\n",
      "[46]\ttrain-merror:0.421839+0.00161637\ttest-merror:0.429886+6.25691e-05\n",
      "[47]\ttrain-merror:0.421624+0.00137478\ttest-merror:0.429492+0.000316777\n",
      "[48]\ttrain-merror:0.421201+0.00155863\ttest-merror:0.429077+0.000244489\n",
      "[49]\ttrain-merror:0.420804+0.00171956\ttest-merror:0.428795+0.000285132\n",
      "[50]\ttrain-merror:0.420432+0.00150561\ttest-merror:0.428419+0.000263577\n",
      "[51]\ttrain-merror:0.42023+0.00143498\ttest-merror:0.428231+0.000218089\n",
      "[52]\ttrain-merror:0.420076+0.0014766\ttest-merror:0.428134+0.000158695\n",
      "[53]\ttrain-merror:0.419753+0.00134906\ttest-merror:0.427649+0.000305719\n",
      "[54]\ttrain-merror:0.419313+0.00156491\ttest-merror:0.427371+0.000139203\n",
      "[55]\ttrain-merror:0.419054+0.00174819\ttest-merror:0.427089+0.000298915\n",
      "[56]\ttrain-merror:0.41891+0.00177122\ttest-merror:0.427022+0.000399507\n",
      "[57]\ttrain-merror:0.418383+0.00165649\ttest-merror:0.426459+0.000293728\n",
      "[58]\ttrain-merror:0.418054+0.00141756\ttest-merror:0.426177+0.00038419\n",
      "[59]\ttrain-merror:0.417773+0.00139991\ttest-merror:0.425989+0.000448567\n",
      "[60]\ttrain-merror:0.417291+0.00141892\ttest-merror:0.425537+0.000508432\n",
      "[61]\ttrain-merror:0.416947+0.00128855\ttest-merror:0.425255+0.000598341\n",
      "[62]\ttrain-merror:0.416829+0.00140733\ttest-merror:0.425156+0.000623188\n",
      "[63]\ttrain-merror:0.416461+0.00134543\ttest-merror:0.42478+0.000594475\n",
      "[64]\ttrain-merror:0.416288+0.00138218\ttest-merror:0.424671+0.0006188\n",
      "[65]\ttrain-merror:0.416056+0.00141606\ttest-merror:0.424486+0.000603792\n",
      "[66]\ttrain-merror:0.415742+0.0013451\ttest-merror:0.424177+0.000667927\n",
      "[67]\ttrain-merror:0.415446+0.00127392\ttest-merror:0.423853+0.000698117\n",
      "[68]\ttrain-merror:0.414882+0.00140936\ttest-merror:0.423492+0.000983049\n",
      "[69]\ttrain-merror:0.414556+0.00133272\ttest-merror:0.423316+0.00108896\n",
      "[70]\ttrain-merror:0.41443+0.00129266\ttest-merror:0.423256+0.00106241\n",
      "[71]\ttrain-merror:0.414296+0.00130896\ttest-merror:0.423159+0.00127273\n",
      "[72]\ttrain-merror:0.414106+0.00128135\ttest-merror:0.42295+0.00117269\n",
      "[73]\ttrain-merror:0.413904+0.00133863\ttest-merror:0.422813+0.00104238\n",
      "[74]\ttrain-merror:0.413662+0.00126422\ttest-merror:0.422574+0.00106654\n",
      "[75]\ttrain-merror:0.413508+0.0012264\ttest-merror:0.422425+0.000887496\n",
      "[76]\ttrain-merror:0.413427+0.00136876\ttest-merror:0.422453+0.00111363\n",
      "[77]\ttrain-merror:0.413188+0.00120812\ttest-merror:0.422259+0.00101549\n",
      "[78]\ttrain-merror:0.412912+0.001104\ttest-merror:0.42201+0.000924995\n",
      "[79]\ttrain-merror:0.412655+0.0011248\ttest-merror:0.421768+0.000796893\n",
      "[80]\ttrain-merror:0.412537+0.00113842\ttest-merror:0.421683+0.000880686\n",
      "[81]\ttrain-merror:0.41219+0.00108198\ttest-merror:0.42148+0.000877051\n",
      "[82]\ttrain-merror:0.411947+0.00110731\ttest-merror:0.421213+0.000823384\n",
      "[83]\ttrain-merror:0.411718+0.00104901\ttest-merror:0.420889+0.000736929\n",
      "[84]\ttrain-merror:0.411491+0.00100659\ttest-merror:0.42068+0.000582785\n",
      "[85]\ttrain-merror:0.411353+0.00107158\ttest-merror:0.420504+0.000448179\n",
      "[86]\ttrain-merror:0.411176+0.00108466\ttest-merror:0.420431+0.000478173\n",
      "[87]\ttrain-merror:0.411034+0.00111174\ttest-merror:0.420322+0.000606152\n",
      "[88]\ttrain-merror:0.410932+0.001001\ttest-merror:0.420204+0.000636911\n",
      "[89]\ttrain-merror:0.410617+0.000823758\ttest-merror:0.419944+0.000773464\n",
      "[90]\ttrain-merror:0.410416+0.000873684\ttest-merror:0.419744+0.000622162\n",
      "[91]\ttrain-merror:0.410135+0.000774294\ttest-merror:0.419438+0.000651657\n",
      "[92]\ttrain-merror:0.409967+0.000763364\ttest-merror:0.419383+0.000630078\n",
      "[93]\ttrain-merror:0.409826+0.00085022\ttest-merror:0.419289+0.000543121\n",
      "[94]\ttrain-merror:0.409649+0.000790457\ttest-merror:0.419129+0.000600346\n",
      "[95]\ttrain-merror:0.409534+0.000752434\ttest-merror:0.418986+0.000603272\n",
      "[96]\ttrain-merror:0.409413+0.00071983\ttest-merror:0.418932+0.000609928\n",
      "[97]\ttrain-merror:0.409149+0.000570218\ttest-merror:0.418729+0.000755051\n",
      "[98]\ttrain-merror:0.408952+0.000592837\ttest-merror:0.418547+0.000782984\n",
      "[99]\ttrain-merror:0.408866+0.000579832\ttest-merror:0.418462+0.0008401\n",
      "[100]\ttrain-merror:0.408755+0.000637703\ttest-merror:0.418401+0.00086385\n",
      "[101]\ttrain-merror:0.4086+0.000631982\ttest-merror:0.418289+0.00095972\n",
      "[102]\ttrain-merror:0.408573+0.000724293\ttest-merror:0.418314+0.00079902\n",
      "[103]\ttrain-merror:0.408381+0.000732435\ttest-merror:0.418153+0.000820744\n",
      "[104]\ttrain-merror:0.4082+0.000683844\ttest-merror:0.417986+0.000889022\n",
      "[105]\ttrain-merror:0.40814+0.000668512\ttest-merror:0.41792+0.00089034\n",
      "[106]\ttrain-merror:0.407959+0.000628756\ttest-merror:0.417813+0.000990648\n",
      "[107]\ttrain-merror:0.407813+0.000575785\ttest-merror:0.417635+0.000998616\n",
      "[108]\ttrain-merror:0.407758+0.000506993\ttest-merror:0.417574+0.00106763\n",
      "[109]\ttrain-merror:0.407606+0.000331536\ttest-merror:0.41749+0.00114935\n",
      "[110]\ttrain-merror:0.407307+0.000258993\ttest-merror:0.417265+0.00116996\n",
      "[111]\ttrain-merror:0.407051+0.000164895\ttest-merror:0.417029+0.00129329\n",
      "[112]\ttrain-merror:0.406897+0.000223279\ttest-merror:0.416883+0.00127558\n",
      "[113]\ttrain-merror:0.406798+0.000329271\ttest-merror:0.416823+0.00107522\n",
      "[114]\ttrain-merror:0.406716+0.000378851\ttest-merror:0.416729+0.00111854\n",
      "[115]\ttrain-merror:0.406486+0.000427548\ttest-merror:0.416635+0.00116606\n",
      "[116]\ttrain-merror:0.406405+0.000381307\ttest-merror:0.416608+0.00109759\n",
      "[117]\ttrain-merror:0.40619+0.000410328\ttest-merror:0.416486+0.00104561\n",
      "[118]\ttrain-merror:0.406145+0.000418991\ttest-merror:0.416402+0.00104491\n",
      "[119]\ttrain-merror:0.40604+0.000433856\ttest-merror:0.416362+0.00110205\n",
      "[120]\ttrain-merror:0.405902+0.000424314\ttest-merror:0.416344+0.00101975\n",
      "[121]\ttrain-merror:0.405808+0.000393064\ttest-merror:0.416265+0.00108944\n",
      "[122]\ttrain-merror:0.405744+0.000366672\ttest-merror:0.416198+0.00110504\n",
      "[123]\ttrain-merror:0.405602+0.000377125\ttest-merror:0.416089+0.00109387\n",
      "[124]\ttrain-merror:0.405521+0.000391045\ttest-merror:0.416071+0.000971394\n",
      "[125]\ttrain-merror:0.405463+0.00033963\ttest-merror:0.416007+0.000980278\n",
      "[126]\ttrain-merror:0.405344+0.000330354\ttest-merror:0.415917+0.000999872\n",
      "[127]\ttrain-merror:0.405154+0.000329268\ttest-merror:0.415744+0.00109773\n",
      "[128]\ttrain-merror:0.405078+0.000332266\ttest-merror:0.41565+0.00107377\n",
      "[129]\ttrain-merror:0.404923+0.000288427\ttest-merror:0.415541+0.00117083\n",
      "[130]\ttrain-merror:0.404823+0.00031023\ttest-merror:0.415474+0.0011851\n",
      "[131]\ttrain-merror:0.404643+0.000309499\ttest-merror:0.415368+0.00125945\n",
      "[132]\ttrain-merror:0.40446+0.000275936\ttest-merror:0.415286+0.00134925\n",
      "[133]\ttrain-merror:0.404304+0.000222253\ttest-merror:0.41515+0.00129368\n",
      "[134]\ttrain-merror:0.404239+0.00019966\ttest-merror:0.415138+0.00136575\n",
      "[135]\ttrain-merror:0.40412+0.000151086\ttest-merror:0.415099+0.00135449\n",
      "[136]\ttrain-merror:0.403952+0.000201114\ttest-merror:0.414898+0.00140632\n",
      "[137]\ttrain-merror:0.403808+0.000306639\ttest-merror:0.414792+0.00133227\n",
      "[138]\ttrain-merror:0.403671+0.000356371\ttest-merror:0.414714+0.00133206\n",
      "[139]\ttrain-merror:0.403708+0.000370949\ttest-merror:0.41472+0.00137271\n",
      "[140]\ttrain-merror:0.403584+0.000376955\ttest-merror:0.414726+0.00148917\n",
      "[141]\ttrain-merror:0.403366+0.000238609\ttest-merror:0.414568+0.00148475\n",
      "[142]\ttrain-merror:0.40329+0.000221022\ttest-merror:0.414538+0.00150615\n",
      "[143]\ttrain-merror:0.403107+0.000211137\ttest-merror:0.414366+0.00151286\n",
      "[144]\ttrain-merror:0.403045+0.000227346\ttest-merror:0.414365+0.00144259\n",
      "[145]\ttrain-merror:0.402962+0.00018645\ttest-merror:0.414226+0.00154749\n",
      "[146]\ttrain-merror:0.402846+0.000296599\ttest-merror:0.414102+0.00168876\n",
      "[147]\ttrain-merror:0.402858+0.000315258\ttest-merror:0.414065+0.0016257\n",
      "[148]\ttrain-merror:0.402702+0.00033476\ttest-merror:0.413847+0.00162168\n",
      "[149]\ttrain-merror:0.402634+0.000315703\ttest-merror:0.413762+0.00153375\n",
      "[150]\ttrain-merror:0.402478+0.000343699\ttest-merror:0.413653+0.00142924\n",
      "[151]\ttrain-merror:0.402413+0.000269601\ttest-merror:0.413568+0.00145692\n",
      "[152]\ttrain-merror:0.402313+0.000327482\ttest-merror:0.413508+0.00136981\n",
      "[153]\ttrain-merror:0.402236+0.000369076\ttest-merror:0.413465+0.0014134\n",
      "[154]\ttrain-merror:0.402203+0.000391774\ttest-merror:0.413444+0.00136576\n",
      "[155]\ttrain-merror:0.402107+0.000428432\ttest-merror:0.413356+0.00129253\n",
      "[156]\ttrain-merror:0.402048+0.000383463\ttest-merror:0.41329+0.00135206\n",
      "[157]\ttrain-merror:0.401955+0.000401036\ttest-merror:0.413262+0.0013389\n",
      "[158]\ttrain-merror:0.401801+0.000293575\ttest-merror:0.413038+0.00139066\n",
      "[159]\ttrain-merror:0.401749+0.00033033\ttest-merror:0.413023+0.00140191\n",
      "[160]\ttrain-merror:0.401602+0.00045922\ttest-merror:0.412871+0.00139159\n",
      "[161]\ttrain-merror:0.401573+0.000471594\ttest-merror:0.412884+0.00136843\n",
      "[162]\ttrain-merror:0.401296+0.000767768\ttest-merror:0.412662+0.00113392\n",
      "[163]\ttrain-merror:0.401193+0.000713453\ttest-merror:0.41259+0.00113073\n",
      "[164]\ttrain-merror:0.401019+0.000709959\ttest-merror:0.412581+0.00106418\n",
      "[165]\ttrain-merror:0.40094+0.000702045\ttest-merror:0.412541+0.0012146\n",
      "[166]\ttrain-merror:0.400868+0.000729408\ttest-merror:0.412459+0.00113752\n",
      "[167]\ttrain-merror:0.40076+0.000596202\ttest-merror:0.412384+0.00121721\n",
      "[168]\ttrain-merror:0.400619+0.000627666\ttest-merror:0.412311+0.00114002\n",
      "[169]\ttrain-merror:0.400743+0.000646997\ttest-merror:0.412405+0.00102646\n",
      "[170]\ttrain-merror:0.400666+0.000605552\ttest-merror:0.412357+0.00109024\n",
      "[171]\ttrain-merror:0.400451+0.000641224\ttest-merror:0.412099+0.00112128\n",
      "[172]\ttrain-merror:0.400472+0.000684236\ttest-merror:0.412253+0.00109127\n",
      "[173]\ttrain-merror:0.400281+0.000755148\ttest-merror:0.412102+0.00109744\n",
      "[174]\ttrain-merror:0.400336+0.000839604\ttest-merror:0.412147+0.000882944\n",
      "[175]\ttrain-merror:0.400255+0.00078641\ttest-merror:0.412044+0.000962371\n",
      "[176]\ttrain-merror:0.400231+0.000742717\ttest-merror:0.412093+0.000972511\n",
      "[177]\ttrain-merror:0.400101+0.000745345\ttest-merror:0.411959+0.00106549\n",
      "[178]\ttrain-merror:0.400136+0.000734701\ttest-merror:0.412053+0.000971132\n",
      "[179]\ttrain-merror:0.399984+0.000782571\ttest-merror:0.411993+0.0011308\n",
      "[180]\ttrain-merror:0.400042+0.000772615\ttest-merror:0.412047+0.00105331\n",
      "[181]\ttrain-merror:0.399899+0.000763267\ttest-merror:0.411877+0.00109031\n",
      "[182]\ttrain-merror:0.399831+0.000753313\ttest-merror:0.41185+0.00113985\n",
      "[183]\ttrain-merror:0.399748+0.000791652\ttest-merror:0.411817+0.00115101\n",
      "[184]\ttrain-merror:0.399696+0.000752843\ttest-merror:0.411747+0.0011489\n",
      "[185]\ttrain-merror:0.399601+0.000770741\ttest-merror:0.411617+0.00120755\n",
      "[186]\ttrain-merror:0.399524+0.000741743\ttest-merror:0.411611+0.00122429\n",
      "[187]\ttrain-merror:0.399451+0.000716262\ttest-merror:0.411541+0.00118646\n",
      "[188]\ttrain-merror:0.399207+0.000556011\ttest-merror:0.411326+0.00123224\n",
      "[189]\ttrain-merror:0.399148+0.000570686\ttest-merror:0.411271+0.00124027\n",
      "[190]\ttrain-merror:0.399127+0.000508361\ttest-merror:0.411308+0.00121951\n",
      "[191]\ttrain-merror:0.399095+0.000516233\ttest-merror:0.411308+0.00121939\n",
      "[192]\ttrain-merror:0.398983+0.000569107\ttest-merror:0.411232+0.00113414\n",
      "[193]\ttrain-merror:0.398936+0.000602291\ttest-merror:0.411244+0.00111272\n",
      "[194]\ttrain-merror:0.398987+0.000670254\ttest-merror:0.411305+0.00102944\n",
      "[195]\ttrain-merror:0.398825+0.000563568\ttest-merror:0.411159+0.00108132\n",
      "[196]\ttrain-merror:0.398766+0.000509245\ttest-merror:0.411014+0.00109541\n",
      "[197]\ttrain-merror:0.398686+0.000439937\ttest-merror:0.410935+0.00111637\n",
      "[198]\ttrain-merror:0.398616+0.000456566\ttest-merror:0.41092+0.00108925\n",
      "[199]\ttrain-merror:0.398572+0.000439285\ttest-merror:0.410896+0.00109448\n",
      "[200]\ttrain-merror:0.398541+0.000401026\ttest-merror:0.410902+0.0011916\n",
      "[201]\ttrain-merror:0.398523+0.000373632\ttest-merror:0.410908+0.00114841\n",
      "[202]\ttrain-merror:0.398512+0.000404285\ttest-merror:0.410878+0.0011698\n",
      "[203]\ttrain-merror:0.398401+0.00040752\ttest-merror:0.410729+0.00125054\n",
      "[204]\ttrain-merror:0.398272+0.000524087\ttest-merror:0.410587+0.00121454\n",
      "[205]\ttrain-merror:0.39818+0.000521184\ttest-merror:0.410554+0.00117628\n",
      "[206]\ttrain-merror:0.39816+0.000543622\ttest-merror:0.410511+0.00120177\n",
      "[207]\ttrain-merror:0.398093+0.000560819\ttest-merror:0.410387+0.00117883\n",
      "[208]\ttrain-merror:0.398009+0.000547826\ttest-merror:0.410323+0.00117582\n",
      "[209]\ttrain-merror:0.397951+0.000579185\ttest-merror:0.41029+0.00118197\n",
      "[210]\ttrain-merror:0.397904+0.000608885\ttest-merror:0.410293+0.00124078\n",
      "[211]\ttrain-merror:0.397721+0.000610061\ttest-merror:0.410063+0.00146218\n",
      "[212]\ttrain-merror:0.397704+0.000624599\ttest-merror:0.410053+0.00139993\n",
      "[213]\ttrain-merror:0.397416+0.000883967\ttest-merror:0.409838+0.00114407\n",
      "[214]\ttrain-merror:0.397357+0.000813639\ttest-merror:0.409838+0.00116175\n",
      "[215]\ttrain-merror:0.397277+0.000856688\ttest-merror:0.409768+0.0012367\n",
      "[216]\ttrain-merror:0.397218+0.000868378\ttest-merror:0.409723+0.00121653\n",
      "[217]\ttrain-merror:0.397173+0.000873629\ttest-merror:0.409711+0.00118259\n",
      "[218]\ttrain-merror:0.397111+0.000808326\ttest-merror:0.409708+0.0011841\n",
      "[219]\ttrain-merror:0.397051+0.000768178\ttest-merror:0.409648+0.00120495\n",
      "[220]\ttrain-merror:0.397009+0.000807783\ttest-merror:0.409632+0.00118129\n",
      "[221]\ttrain-merror:0.397009+0.000836148\ttest-merror:0.409602+0.001182\n",
      "[222]\ttrain-merror:0.396978+0.000822898\ttest-merror:0.409578+0.00121695\n",
      "[223]\ttrain-merror:0.396939+0.000816184\ttest-merror:0.409566+0.0012166\n",
      "[224]\ttrain-merror:0.396928+0.000819246\ttest-merror:0.409614+0.00120566\n",
      "[225]\ttrain-merror:0.396859+0.000824329\ttest-merror:0.409508+0.00119282\n",
      "[226]\ttrain-merror:0.396785+0.000822337\ttest-merror:0.409426+0.00121338\n",
      "[227]\ttrain-merror:0.396716+0.000839933\ttest-merror:0.409436+0.0012496\n",
      "[228]\ttrain-merror:0.39671+0.00081277\ttest-merror:0.409487+0.00127311\n",
      "[229]\ttrain-merror:0.396668+0.000806608\ttest-merror:0.40942+0.00125896\n",
      "[230]\ttrain-merror:0.396671+0.000879719\ttest-merror:0.40942+0.00133458\n",
      "[231]\ttrain-merror:0.396627+0.000826962\ttest-merror:0.409384+0.00136438\n",
      "[232]\ttrain-merror:0.396536+0.000805437\ttest-merror:0.409308+0.00128986\n",
      "[233]\ttrain-merror:0.396469+0.00079368\ttest-merror:0.409232+0.00130432\n",
      "[234]\ttrain-merror:0.396413+0.000798379\ttest-merror:0.409196+0.00128604\n",
      "[235]\ttrain-merror:0.396396+0.00077855\ttest-merror:0.409133+0.00128604\n",
      "[236]\ttrain-merror:0.396297+0.000803838\ttest-merror:0.409108+0.00131138\n",
      "[237]\ttrain-merror:0.396266+0.000813691\ttest-merror:0.409105+0.00135029\n",
      "[238]\ttrain-merror:0.3962+0.000828546\ttest-merror:0.409008+0.00131138\n",
      "[239]\ttrain-merror:0.396208+0.000801874\ttest-merror:0.408999+0.00137956\n",
      "[240]\ttrain-merror:0.396218+0.000840448\ttest-merror:0.408969+0.00136266\n",
      "[241]\ttrain-merror:0.396221+0.000875347\ttest-merror:0.408975+0.00134205\n",
      "[242]\ttrain-merror:0.39606+0.000887625\ttest-merror:0.408854+0.00130133\n",
      "[243]\ttrain-merror:0.396042+0.000853361\ttest-merror:0.408862+0.00131822\n",
      "[244]\ttrain-merror:0.395996+0.00085291\ttest-merror:0.408865+0.00130292\n",
      "[245]\ttrain-merror:0.395986+0.00080698\ttest-merror:0.408826+0.00133324\n",
      "[246]\ttrain-merror:0.395871+0.0008182\ttest-merror:0.408781+0.00126069\n",
      "[247]\ttrain-merror:0.395798+0.000816042\ttest-merror:0.408735+0.00129202\n",
      "[248]\ttrain-merror:0.395766+0.000724665\ttest-merror:0.408602+0.00132532\n",
      "[249]\ttrain-merror:0.395754+0.000762251\ttest-merror:0.408584+0.00131651\n",
      "[250]\ttrain-merror:0.395694+0.000792847\ttest-merror:0.40856+0.00126617\n",
      "[251]\ttrain-merror:0.395621+0.000758758\ttest-merror:0.40849+0.00129469\n",
      "[252]\ttrain-merror:0.395447+0.000878701\ttest-merror:0.408342+0.00120781\n",
      "[253]\ttrain-merror:0.395419+0.00087537\ttest-merror:0.408278+0.00119156\n",
      "[254]\ttrain-merror:0.395427+0.00088315\ttest-merror:0.408314+0.00111628\n",
      "[255]\ttrain-merror:0.395379+0.000873045\ttest-merror:0.408293+0.00114043\n",
      "[256]\ttrain-merror:0.395374+0.000931842\ttest-merror:0.408253+0.00111277\n",
      "[257]\ttrain-merror:0.395278+0.000921327\ttest-merror:0.408144+0.00109473\n",
      "[258]\ttrain-merror:0.395268+0.000950506\ttest-merror:0.408208+0.00110533\n",
      "[259]\ttrain-merror:0.395106+0.000809238\ttest-merror:0.408123+0.00107571\n",
      "[260]\ttrain-merror:0.395068+0.000751719\ttest-merror:0.408093+0.00107132\n",
      "[261]\ttrain-merror:0.395056+0.000770883\ttest-merror:0.408062+0.00105257\n",
      "[262]\ttrain-merror:0.394997+0.00078833\ttest-merror:0.408117+0.00106009\n",
      "[263]\ttrain-merror:0.394965+0.000764612\ttest-merror:0.408075+0.0010614\n",
      "[264]\ttrain-merror:0.394925+0.000788821\ttest-merror:0.408071+0.00109221\n",
      "[265]\ttrain-merror:0.394909+0.000782356\ttest-merror:0.408042+0.0010718\n",
      "[266]\ttrain-merror:0.39488+0.000778924\ttest-merror:0.407966+0.00103941\n",
      "[267]\ttrain-merror:0.39484+0.000779891\ttest-merror:0.40792+0.00100115\n",
      "[268]\ttrain-merror:0.394838+0.000763176\ttest-merror:0.407932+0.000987396\n",
      "[269]\ttrain-merror:0.394827+0.000763611\ttest-merror:0.407974+0.00101046\n",
      "[270]\ttrain-merror:0.394771+0.000764112\ttest-merror:0.407951+0.000995448\n",
      "[271]\ttrain-merror:0.394762+0.000761623\ttest-merror:0.407974+0.00100637\n",
      "[272]\ttrain-merror:0.394722+0.000777386\ttest-merror:0.407923+0.00094573\n",
      "[273]\ttrain-merror:0.394683+0.000790329\ttest-merror:0.407936+0.000959088\n",
      "[274]\ttrain-merror:0.39467+0.000762903\ttest-merror:0.407951+0.00101817\n",
      "[275]\ttrain-merror:0.394634+0.000788846\ttest-merror:0.407947+0.000990266\n",
      "[276]\ttrain-merror:0.39461+0.000786571\ttest-merror:0.407908+0.000998402\n",
      "[277]\ttrain-merror:0.394576+0.000769971\ttest-merror:0.407941+0.000995944\n",
      "[278]\ttrain-merror:0.394536+0.000780712\ttest-merror:0.407938+0.00103372\n",
      "[279]\ttrain-merror:0.394522+0.000788045\ttest-merror:0.407887+0.00100095\n",
      "[280]\ttrain-merror:0.3945+0.000750044\ttest-merror:0.407893+0.00103725\n",
      "[281]\ttrain-merror:0.394494+0.000776331\ttest-merror:0.407871+0.00103534\n",
      "[282]\ttrain-merror:0.394482+0.000787342\ttest-merror:0.407841+0.00106845\n",
      "[283]\ttrain-merror:0.394425+0.0007715\ttest-merror:0.407769+0.00110271\n",
      "[284]\ttrain-merror:0.39441+0.000742475\ttest-merror:0.407756+0.00113777\n",
      "[285]\ttrain-merror:0.394339+0.000684047\ttest-merror:0.40772+0.00116692\n",
      "[286]\ttrain-merror:0.394324+0.000672647\ttest-merror:0.407675+0.00115145\n",
      "[287]\ttrain-merror:0.394361+0.00066452\ttest-merror:0.407711+0.00117033\n",
      "[288]\ttrain-merror:0.394295+0.00064416\ttest-merror:0.407633+0.00114358\n",
      "[289]\ttrain-merror:0.394253+0.000622619\ttest-merror:0.407638+0.00116385\n",
      "[290]\ttrain-merror:0.394215+0.000670912\ttest-merror:0.40759+0.00121615\n",
      "[291]\ttrain-merror:0.394122+0.000753369\ttest-merror:0.407523+0.00115048\n",
      "[292]\ttrain-merror:0.394119+0.000771524\ttest-merror:0.407502+0.00116007\n",
      "[293]\ttrain-merror:0.394082+0.000798725\ttest-merror:0.40752+0.00106282\n",
      "[294]\ttrain-merror:0.394031+0.00077178\ttest-merror:0.407487+0.00100951\n",
      "[295]\ttrain-merror:0.393972+0.000789851\ttest-merror:0.407426+0.00105654\n",
      "[296]\ttrain-merror:0.393931+0.000805491\ttest-merror:0.407372+0.00107003\n",
      "[297]\ttrain-merror:0.393912+0.000785391\ttest-merror:0.407387+0.00104898\n",
      "[298]\ttrain-merror:0.39391+0.000774122\ttest-merror:0.407417+0.0010148\n",
      "[299]\ttrain-merror:0.393865+0.000759327\ttest-merror:0.407399+0.00105295\n",
      "[300]\ttrain-merror:0.393822+0.000778153\ttest-merror:0.407411+0.00107661\n",
      "[301]\ttrain-merror:0.393824+0.000779644\ttest-merror:0.40739+0.00109573\n",
      "[302]\ttrain-merror:0.393777+0.000789307\ttest-merror:0.407366+0.00106511\n",
      "[303]\ttrain-merror:0.393758+0.000785104\ttest-merror:0.407314+0.00109553\n",
      "[304]\ttrain-merror:0.393756+0.000788042\ttest-merror:0.40725+0.00103637\n",
      "[305]\ttrain-merror:0.393732+0.000787105\ttest-merror:0.40726+0.00105368\n",
      "[306]\ttrain-merror:0.3937+0.000776027\ttest-merror:0.407229+0.00107163\n",
      "[307]\ttrain-merror:0.393662+0.000778337\ttest-merror:0.407233+0.00106106\n",
      "[308]\ttrain-merror:0.393573+0.000824005\ttest-merror:0.40722+0.00109166\n",
      "[309]\ttrain-merror:0.393576+0.000830508\ttest-merror:0.40725+0.00102036\n",
      "[310]\ttrain-merror:0.393523+0.000860862\ttest-merror:0.407157+0.00109097\n",
      "[311]\ttrain-merror:0.39348+0.000832683\ttest-merror:0.407136+0.00106286\n",
      "[312]\ttrain-merror:0.393469+0.000842841\ttest-merror:0.40706+0.00106665\n",
      "[313]\ttrain-merror:0.393412+0.000781626\ttest-merror:0.407026+0.00106241\n",
      "[314]\ttrain-merror:0.393379+0.000781646\ttest-merror:0.407038+0.00112363\n",
      "[315]\ttrain-merror:0.393322+0.000816049\ttest-merror:0.407017+0.00112787\n",
      "[316]\ttrain-merror:0.393307+0.000820221\ttest-merror:0.406966+0.00114011\n",
      "[317]\ttrain-merror:0.393212+0.000755818\ttest-merror:0.406993+0.00117612\n",
      "[318]\ttrain-merror:0.393154+0.000728939\ttest-merror:0.406935+0.0012519\n",
      "[319]\ttrain-merror:0.393136+0.000732362\ttest-merror:0.406926+0.00122453\n",
      "[320]\ttrain-merror:0.393145+0.000750931\ttest-merror:0.40692+0.00123905\n",
      "[321]\ttrain-merror:0.393094+0.000749622\ttest-merror:0.406881+0.00123203\n",
      "[322]\ttrain-merror:0.39305+0.000737456\ttest-merror:0.406836+0.0012461\n",
      "[323]\ttrain-merror:0.392994+0.000708112\ttest-merror:0.40682+0.00129047\n",
      "[324]\ttrain-merror:0.393007+0.000698176\ttest-merror:0.406817+0.00131636\n",
      "[325]\ttrain-merror:0.392986+0.000732989\ttest-merror:0.406799+0.00125466\n",
      "[326]\ttrain-merror:0.393001+0.000735838\ttest-merror:0.406814+0.0012573\n",
      "[327]\ttrain-merror:0.392995+0.000733971\ttest-merror:0.406784+0.00124352\n",
      "[328]\ttrain-merror:0.392876+0.000842711\ttest-merror:0.406696+0.00115632\n",
      "[329]\ttrain-merror:0.392872+0.000851477\ttest-merror:0.406678+0.00113579\n",
      "[330]\ttrain-merror:0.392839+0.000823848\ttest-merror:0.406666+0.00116787\n",
      "[331]\ttrain-merror:0.392847+0.000851455\ttest-merror:0.406663+0.00113421\n",
      "[332]\ttrain-merror:0.392786+0.000809875\ttest-merror:0.406635+0.00112322\n",
      "[333]\ttrain-merror:0.392726+0.000790047\ttest-merror:0.406605+0.00118637\n",
      "[334]\ttrain-merror:0.392674+0.000832564\ttest-merror:0.406523+0.00115249\n",
      "[335]\ttrain-merror:0.392572+0.000747741\ttest-merror:0.406454+0.0012053\n",
      "[336]\ttrain-merror:0.392604+0.000755358\ttest-merror:0.40649+0.0012\n",
      "[337]\ttrain-merror:0.392557+0.000734815\ttest-merror:0.406502+0.00117015\n",
      "[338]\ttrain-merror:0.392531+0.000733777\ttest-merror:0.406505+0.00112955\n",
      "[339]\ttrain-merror:0.392509+0.000741429\ttest-merror:0.406502+0.0011547\n",
      "[340]\ttrain-merror:0.39253+0.000757651\ttest-merror:0.406514+0.00110632\n",
      "[341]\ttrain-merror:0.392491+0.000742442\ttest-merror:0.406505+0.00112092\n",
      "[342]\ttrain-merror:0.392451+0.000749509\ttest-merror:0.406493+0.0011514\n",
      "[343]\ttrain-merror:0.392445+0.000729976\ttest-merror:0.406457+0.00120518\n",
      "[344]\ttrain-merror:0.392333+0.000775075\ttest-merror:0.406293+0.00121991\n",
      "[345]\ttrain-merror:0.3923+0.000776975\ttest-merror:0.406293+0.00125406\n",
      "[346]\ttrain-merror:0.392233+0.000751129\ttest-merror:0.40629+0.00125971\n",
      "[347]\ttrain-merror:0.392215+0.000751181\ttest-merror:0.406311+0.00125402\n",
      "[348]\ttrain-merror:0.392182+0.000763658\ttest-merror:0.40626+0.00128076\n",
      "[349]\ttrain-merror:0.392153+0.00075982\ttest-merror:0.406238+0.0012426\n",
      "[350]\ttrain-merror:0.39208+0.000753262\ttest-merror:0.406232+0.0012101\n",
      "[351]\ttrain-merror:0.392059+0.000752867\ttest-merror:0.406217+0.00120996\n",
      "[352]\ttrain-merror:0.392035+0.000763052\ttest-merror:0.406217+0.00120153\n",
      "[353]\ttrain-merror:0.392051+0.00076419\ttest-merror:0.406214+0.00117565\n",
      "[354]\ttrain-merror:0.392019+0.000767511\ttest-merror:0.406241+0.0011797\n",
      "[355]\ttrain-merror:0.392047+0.000793391\ttest-merror:0.406305+0.00113491\n",
      "[356]\ttrain-merror:0.392036+0.000783659\ttest-merror:0.406226+0.00119288\n",
      "[357]\ttrain-merror:0.392042+0.000801208\ttest-merror:0.406326+0.00116897\n",
      "[358]\ttrain-merror:0.392023+0.000801196\ttest-merror:0.406199+0.00119847\n",
      "[359]\ttrain-merror:0.39201+0.000805681\ttest-merror:0.406281+0.00112431\n",
      "[360]\ttrain-merror:0.392003+0.000813354\ttest-merror:0.406269+0.00113724\n",
      "[361]\ttrain-merror:0.391995+0.000816466\ttest-merror:0.406254+0.00109854\n",
      "[362]\ttrain-merror:0.391965+0.000841579\ttest-merror:0.406263+0.0010941\n",
      "[363]\ttrain-merror:0.391992+0.000813319\ttest-merror:0.406272+0.00113215\n",
      "[364]\ttrain-merror:0.391976+0.000797202\ttest-merror:0.40622+0.00115517\n",
      "[365]\ttrain-merror:0.391923+0.000774172\ttest-merror:0.40616+0.00117905\n",
      "[366]\ttrain-merror:0.391912+0.000773544\ttest-merror:0.406154+0.00114761\n",
      "[367]\ttrain-merror:0.39191+0.000769537\ttest-merror:0.406145+0.00116464\n",
      "[368]\ttrain-merror:0.3919+0.000774225\ttest-merror:0.406147+0.00117827\n",
      "[369]\ttrain-merror:0.391882+0.000753094\ttest-merror:0.406117+0.00119114\n",
      "[370]\ttrain-merror:0.391894+0.000777453\ttest-merror:0.406087+0.00117542\n",
      "[371]\ttrain-merror:0.391877+0.000776413\ttest-merror:0.406102+0.00117857\n",
      "[372]\ttrain-merror:0.391812+0.000707199\ttest-merror:0.406063+0.00119803\n",
      "[373]\ttrain-merror:0.391814+0.000697847\ttest-merror:0.406087+0.00122085\n",
      "[374]\ttrain-merror:0.391794+0.000683697\ttest-merror:0.406029+0.00127364\n",
      "[375]\ttrain-merror:0.391759+0.00069527\ttest-merror:0.405981+0.00124465\n",
      "[376]\ttrain-merror:0.391718+0.000657207\ttest-merror:0.405941+0.00128151\n",
      "[377]\ttrain-merror:0.391713+0.000656257\ttest-merror:0.405953+0.00128011\n",
      "[378]\ttrain-merror:0.391704+0.000669894\ttest-merror:0.405941+0.00124399\n",
      "[379]\ttrain-merror:0.391692+0.000696125\ttest-merror:0.405948+0.00123682\n",
      "[380]\ttrain-merror:0.391694+0.000701455\ttest-merror:0.405938+0.00121132\n",
      "[381]\ttrain-merror:0.39166+0.000658923\ttest-merror:0.405948+0.001223\n",
      "[382]\ttrain-merror:0.391589+0.000741002\ttest-merror:0.405896+0.00114555\n",
      "[383]\ttrain-merror:0.391571+0.000737011\ttest-merror:0.405842+0.0011187\n",
      "[384]\ttrain-merror:0.39155+0.000737456\ttest-merror:0.40582+0.00113357\n",
      "[385]\ttrain-merror:0.391508+0.000707875\ttest-merror:0.405811+0.00107482\n",
      "[386]\ttrain-merror:0.391507+0.000716741\ttest-merror:0.405839+0.00110304\n",
      "[387]\ttrain-merror:0.391504+0.000720858\ttest-merror:0.405802+0.00111968\n",
      "[388]\ttrain-merror:0.391483+0.000714748\ttest-merror:0.405763+0.00117556\n",
      "[389]\ttrain-merror:0.391442+0.000669846\ttest-merror:0.405699+0.00122634\n",
      "[390]\ttrain-merror:0.391407+0.000675532\ttest-merror:0.405678+0.00126161\n",
      "[391]\ttrain-merror:0.391385+0.000678261\ttest-merror:0.405657+0.00126502\n",
      "[392]\ttrain-merror:0.391373+0.00067232\ttest-merror:0.405672+0.00128351\n",
      "[393]\ttrain-merror:0.391382+0.000683161\ttest-merror:0.405684+0.00128189\n",
      "[394]\ttrain-merror:0.391392+0.000682497\ttest-merror:0.405684+0.00130282\n",
      "[395]\ttrain-merror:0.391344+0.000636659\ttest-merror:0.405657+0.00129538\n",
      "[396]\ttrain-merror:0.391326+0.000626591\ttest-merror:0.405654+0.00130835\n",
      "[397]\ttrain-merror:0.391295+0.000621101\ttest-merror:0.405611+0.00124527\n",
      "[398]\ttrain-merror:0.391288+0.000627105\ttest-merror:0.405617+0.00123555\n",
      "[399]\ttrain-merror:0.391276+0.000624533\ttest-merror:0.405532+0.0012454\n",
      "[400]\ttrain-merror:0.391265+0.000623321\ttest-merror:0.405529+0.00123076\n",
      "[401]\ttrain-merror:0.391228+0.000679875\ttest-merror:0.405481+0.00116136\n",
      "[402]\ttrain-merror:0.391213+0.000654261\ttest-merror:0.405469+0.00116578\n",
      "[403]\ttrain-merror:0.391192+0.000596917\ttest-merror:0.405426+0.00126492\n",
      "[404]\ttrain-merror:0.391124+0.000558038\ttest-merror:0.405405+0.00129377\n",
      "[405]\ttrain-merror:0.391086+0.000650698\ttest-merror:0.405329+0.00120017\n",
      "[406]\ttrain-merror:0.391062+0.000666844\ttest-merror:0.405345+0.00125291\n",
      "[407]\ttrain-merror:0.391039+0.000668442\ttest-merror:0.40536+0.00124537\n",
      "[408]\ttrain-merror:0.390956+0.000703766\ttest-merror:0.405293+0.00121001\n",
      "[409]\ttrain-merror:0.390974+0.000690994\ttest-merror:0.40529+0.00121997\n",
      "[410]\ttrain-merror:0.390948+0.00067685\ttest-merror:0.405284+0.00122024\n",
      "[411]\ttrain-merror:0.390948+0.000681265\ttest-merror:0.40529+0.00125327\n",
      "[412]\ttrain-merror:0.390942+0.000690548\ttest-merror:0.405284+0.00124078\n",
      "[413]\ttrain-merror:0.390935+0.000688818\ttest-merror:0.405287+0.00123103\n",
      "[414]\ttrain-merror:0.390942+0.000690548\ttest-merror:0.405257+0.00124774\n",
      "[415]\ttrain-merror:0.390903+0.000658387\ttest-merror:0.405251+0.00124121\n",
      "[416]\ttrain-merror:0.390871+0.000646504\ttest-merror:0.405281+0.00122414\n",
      "[417]\ttrain-merror:0.390891+0.000660513\ttest-merror:0.405278+0.00120196\n",
      "[418]\ttrain-merror:0.390891+0.000656086\ttest-merror:0.405269+0.00118175\n",
      "[419]\ttrain-merror:0.390876+0.000668616\ttest-merror:0.40526+0.00118047\n",
      "[420]\ttrain-merror:0.39085+0.000675704\ttest-merror:0.405211+0.00120323\n",
      "[421]\ttrain-merror:0.390865+0.000676491\ttest-merror:0.40522+0.00119515\n",
      "[422]\ttrain-merror:0.390864+0.000689123\ttest-merror:0.405242+0.00116234\n",
      "[423]\ttrain-merror:0.390812+0.000722648\ttest-merror:0.405226+0.00114771\n",
      "[424]\ttrain-merror:0.390828+0.000675737\ttest-merror:0.405275+0.00117756\n",
      "[425]\ttrain-merror:0.390812+0.000609905\ttest-merror:0.405269+0.00127806\n",
      "[426]\ttrain-merror:0.390824+0.000620959\ttest-merror:0.405278+0.00127516\n",
      "[427]\ttrain-merror:0.390801+0.000646141\ttest-merror:0.40522+0.00122449\n",
      "[428]\ttrain-merror:0.390812+0.000651106\ttest-merror:0.405227+0.00125976\n",
      "[429]\ttrain-merror:0.390744+0.00073373\ttest-merror:0.405196+0.00116899\n",
      "[430]\ttrain-merror:0.390716+0.000722763\ttest-merror:0.40516+0.00114974\n",
      "[431]\ttrain-merror:0.39073+0.000724604\ttest-merror:0.405145+0.00115292\n",
      "[432]\ttrain-merror:0.390709+0.000613321\ttest-merror:0.405196+0.00120743\n",
      "[433]\ttrain-merror:0.390713+0.000628181\ttest-merror:0.405172+0.00115874\n",
      "[434]\ttrain-merror:0.390693+0.000636393\ttest-merror:0.405184+0.00123525\n",
      "[435]\ttrain-merror:0.3907+0.000626766\ttest-merror:0.405193+0.00123425\n",
      "[436]\ttrain-merror:0.390714+0.000648151\ttest-merror:0.405181+0.00119614\n",
      "[437]\ttrain-merror:0.390708+0.000641565\ttest-merror:0.405187+0.00118995\n",
      "[438]\ttrain-merror:0.39071+0.000621454\ttest-merror:0.405178+0.0011847\n",
      "[439]\ttrain-merror:0.390703+0.000622937\ttest-merror:0.405142+0.00115856\n",
      "[440]\ttrain-merror:0.390709+0.000609527\ttest-merror:0.405136+0.00117135\n",
      "[441]\ttrain-merror:0.390697+0.000622857\ttest-merror:0.405111+0.00117481\n",
      "[442]\ttrain-merror:0.390691+0.00061024\ttest-merror:0.405099+0.00118235\n",
      "[443]\ttrain-merror:0.390695+0.000601008\ttest-merror:0.405123+0.00118246\n",
      "[444]\ttrain-merror:0.390659+0.000611693\ttest-merror:0.405102+0.00119553\n",
      "[445]\ttrain-merror:0.39063+0.000636881\ttest-merror:0.405087+0.00119332\n",
      "[446]\ttrain-merror:0.390594+0.000652366\ttest-merror:0.405072+0.00120419\n",
      "[447]\ttrain-merror:0.390582+0.000661756\ttest-merror:0.405057+0.00121998\n",
      "[448]\ttrain-merror:0.390604+0.000636774\ttest-merror:0.40506+0.00122983\n",
      "[449]\ttrain-merror:0.390554+0.000683594\ttest-merror:0.405014+0.00120893\n",
      "[450]\ttrain-merror:0.390571+0.00063772\ttest-merror:0.405045+0.00122013\n",
      "[451]\ttrain-merror:0.390575+0.000619131\ttest-merror:0.40506+0.00120917\n",
      "[452]\ttrain-merror:0.390551+0.000643744\ttest-merror:0.405045+0.00120741\n",
      "[453]\ttrain-merror:0.390521+0.00059909\ttest-merror:0.405048+0.00120493\n",
      "[454]\ttrain-merror:0.390492+0.000631696\ttest-merror:0.405078+0.00119598\n",
      "[455]\ttrain-merror:0.390452+0.00068214\ttest-merror:0.40502+0.00114598\n",
      "[456]\ttrain-merror:0.390436+0.000666663\ttest-merror:0.405066+0.00112162\n",
      "[457]\ttrain-merror:0.39041+0.000645905\ttest-merror:0.405063+0.00114281\n",
      "[458]\ttrain-merror:0.39042+0.000642076\ttest-merror:0.405084+0.00113585\n",
      "             precision    recall  f1-score   support\n",
      "\n",
      "        401       0.33      0.31      0.32      3920\n",
      "        402       0.28      0.17      0.21      2130\n",
      "        403       0.21      0.04      0.06       523\n",
      "        404       0.28      0.20      0.23      4116\n",
      "        405       0.18      0.01      0.02       567\n",
      "        406       0.28      0.11      0.16       654\n",
      "        407       0.34      0.45      0.39      5953\n",
      "        408       0.29      0.28      0.28      2646\n",
      "        409       0.27      0.39      0.32      3472\n",
      "        410       0.24      0.20      0.22      1502\n",
      "        411       0.25      0.30      0.27      2963\n",
      "\n",
      "avg / total       0.29      0.30      0.28     28446\n",
      "\n",
      "[[1214  210   11  309   11   26  873  208  495  175  388]\n",
      " [ 281  370    7  289    2   23  521  112  214  118  193]\n",
      " [  64   43   19   70    1    5  162   28   62   14   55]\n",
      " [ 413  189   17  808    4   35 1109  275  746  107  413]\n",
      " [  69   61    2   49    7   14  126   61   97    9   72]\n",
      " [  90   58    1   41    3   73  183   60   89   13   43]\n",
      " [ 510  123   12  511    8   37 2666  465  842  189  590]\n",
      " [ 216   52    6  158    1   16  654  731  353  121  338]\n",
      " [ 297   52    8  324    1   18  692  264 1343   96  377]\n",
      " [ 240   85    4  118    1    6  263   81  169  304  231]\n",
      " [ 245   70    5  196    0   11  629  253  550  111  893]]\n"
     ]
    },
    {
     "data": {
      "image/png": "[encoded data removed]",
      "text/plain": [
       "<matplotlib.figure.Figure at 0x7fc11066bfd0>"
      ]
     },
     "metadata": {},
     "output_type": "display_data"
    }
   ],
   "source": [
    "import xgboost as xgb\n",
    "from xgboost.sklearn import XGBClassifier\n",
    "\n",
    "TRAIN = True  #是否训练\n",
    "CV = True\n",
    "#split train set and test set\n",
    "dtrain = xgb.DMatrix(train_dummies, train_y)\n",
    "dtest = xgb.DMatrix(test_dummies)\n",
    "\n",
    "clf = xgb.XGBClassifier(\n",
    "    learning_rate = 0.2,\n",
    "    n_estimators = 660,\n",
    "    max_depth = 8,\n",
    "    colsample_bytree = 0.8,\n",
    "    subsample = 0.9,\n",
    "    objective = 'multi:softmax',\n",
    "    min_child_weight = 1,\n",
    "    gamma = 2,\n",
    "    seed = 27\n",
    "    )\n",
    "\n",
    "param = clf.get_xgb_params()\n",
    "param['num_class'] = 11\n",
    "if CV:\n",
    "    cvresult = xgb.cv(param, dtrain, num_boost_round=2000, nfold=3, stratified=True,\n",
    "                  metrics='merror', early_stopping_rounds=10,verbose_eval=True)\n",
    "    clf.set_params(n_estimators=cvresult.shape[0])   #set n_estimators as cv rounds\n",
    "if TRAIN:\n",
    "    clf.fit(train_dummies, train_y, eval_metric='merror')\n",
    "else:\n",
    "    clf = pickle.load(open(\"zhejiang_4_all.pkl\", \"rb\"))\n",
    "        \n",
    "\n",
    "ypred_xgb = clf.predict(test_dummies)\n",
    "ypred_xgb = le.inverse_transform(ypred_xgb)\n",
    "test_y_xgb = le.inverse_transform(test_y)\n",
    "#print model report:\n",
    "print(classification_report(test_y_xgb, ypred_xgb))\n",
    "print(confusion_matrix(test_y_xgb, ypred_xgb))\n",
    "\n",
    "xgb.plot_importance(clf.booster())\n",
    "pickle.dump(clf, open(\"zhejiang_4_all_nore.pkl\", \"wb\"))\n"
   ]
  },
  {
   "cell_type": "markdown",
   "metadata": {},
   "source": [
    "* 召回率(Recall)=  系统检索到的相关文件 / 系统所有相关的文件总数\n",
    "* 准确率(Precision) =  系统检索到的相关文件 / 系统所有检索到的文件总数\n",
    "* f1 = 2*Recall*Precision / (Recall+Precision)"
   ]
  },
  {
   "cell_type": "code",
   "execution_count": null,
   "metadata": {
    "collapsed": false
   },
   "outputs": [
    {
     "name": "stdout",
     "output_type": "stream",
     "text": [
      "Fitting 2 folds for each of 12 candidates, totalling 24 fits\n"
     ]
    }
   ],
   "source": [
    "param_test1 = {'max_depth':range(5,12,2), 'min_child_weight':range(1,7,2)}\n",
    "gsearch1 = GridSearchCV(estimator=clf, param_grid = param_test1, scoring='accuracy',n_jobs=-1,cv=2, verbose=True)\n",
    "gsearch1.fit(train, train_y)\n",
    "print gsearch1.grid_scores_, gsearch1.best_params_, gsearch1.best_score_"
   ]
  },
  {
   "cell_type": "code",
   "execution_count": null,
   "metadata": {
    "collapsed": false
   },
   "outputs": [],
   "source": [
    "data['FAULT_TYPE'].value_counts()"
   ]
  },
  {
   "cell_type": "markdown",
   "metadata": {
    "collapsed": true
   },
   "source": [
    "# SGDClassifier\n",
    "使用随机梯度下降线性分类器"
   ]
  },
  {
   "cell_type": "markdown",
   "metadata": {},
   "source": [
    "对于线性不可分情况，使用rbf核将数据映射到高维空间中"
   ]
  },
  {
   "cell_type": "code",
   "execution_count": null,
   "metadata": {
    "collapsed": true
   },
   "outputs": [],
   "source": [
    "from sklearn.kernel_approximation import RBFSampler, Nystroem\n",
    "\n",
    "USE_RBF = False   #True：RBFSampler, False:Nystroem\n",
    "if USE_RBF:\n",
    "    rbf_feature = RBFSampler(gamma=1, random_state=1)\n",
    "    train_SGD = rbf_feature.fit_transform(train)\n",
    "    test_SGD = rbf_feature.transform(test)\n",
    "else:\n",
    "    Nys_feature = Nystroem(gamma=1, random_state=1)\n",
    "    train_SGD = Nys_feature.fit_transform(train)\n",
    "    test_SGD = Nys_feature.transform(test)\n",
    "        "
   ]
  },
  {
   "cell_type": "code",
   "execution_count": null,
   "metadata": {
    "collapsed": false
   },
   "outputs": [],
   "source": [
    "from sklearn.linear_model import SGDClassifier\n",
    "\n",
    "USE_GridSearch = False\n",
    "clf = SGDClassifier(loss='modified_huber', alpha=0.01, n_iter=100, class_weight=\"balanced\", random_state=27)\n",
    "if USE_GridSearch:\n",
    "    param_test1 = {'loss':['hinge', 'log','modified_huber', 'squared_hinge', 'perceptron'], 'alpha':[0.1, 0.01, 0.01, 0.0001]}\n",
    "    gsearch1 = GridSearchCV(estimator=clf, param_grid = param_test1, scoring='accuracy', n_jobs=-1,cv=2, verbose=True)\n",
    "    gsearch1.fit(train_SGD, train_y)\n",
    "    print gsearch1.grid_scores_, gsearch1.best_params_, gsearch1.best_score_\n",
    "    clf = gsearch1\n",
    "else:\n",
    "    clf.fit(train_SGD, train_y)\n",
    "ypred_sgd = clf.predict(test_SGD)\n",
    "ypred_sgd = le.inverse_transform(ypred_sgd)\n",
    "test_y_sgd = le.inverse_transform(test_y)\n",
    "#print model report:\n",
    "print(classification_report(test_y_sgd, ypred_sgd))\n",
    "print(confusion_matrix(test_y_sgd, ypred_sgd))\n",
    "pickle.dump(clf, open(\"zhejiang_4_SGD.pkl\", \"wb\"))"
   ]
  },
  {
   "cell_type": "markdown",
   "metadata": {},
   "source": [
    "## KNN"
   ]
  },
  {
   "cell_type": "code",
   "execution_count": null,
   "metadata": {
    "collapsed": false
   },
   "outputs": [],
   "source": [
    "from sklearn import neighbors\n",
    "\n",
    "USE_GridSearch = False\n",
    "n_neighbors = 50\n",
    " \n",
    "clf = neighbors.KNeighborsClassifier(n_neighbors, weights='distance')\n",
    "if USE_GridSearch:\n",
    "    param_test1 = {'n_neighbors':range(20,60,10), 'weights':['uniform', 'distance']}\n",
    "    gsearch1 = GridSearchCV(estimator=clf, param_grid = param_test1, scoring='accuracy', n_jobs=-1,cv=2, verbose=True)\n",
    "    gsearch1.fit(train, train_y)\n",
    "    print gsearch1.grid_scores_, gsearch1.best_params_, gsearch1.best_score_\n",
    "    clf = gsearch1\n",
    "else:\n",
    "    clf.fit(train, train_y)\n",
    "ypred_knn = clf.predict(test)\n",
    "ypred_knn = le.inverse_transform(ypred_knn)\n",
    "test_y_knn = le.inverse_transform(test_y)\n",
    "#print model report:\n",
    "print(classification_report(test_y_knn, ypred_knn))\n",
    "print(confusion_matrix(test_y_knn, ypred_knn))\n",
    "pickle.dump(clf, open(\"zhejiang_4_KNN.pkl\", \"wb\"))"
   ]
  },
  {
   "cell_type": "markdown",
   "metadata": {},
   "source": [
    "* XGBoost算法使用决策树作为弱分类器，如果训练数据可分的情况下将会一直拟合数据知道训练准确率100%，可以证明数据不可分\n",
    "* SGDClassifier是针对数据量较大的线性分类器，当线性分类无效时，使用rbf将数据映射到高维空间中，再采用线性分类其进行分类，效果不佳\n",
    "* 使用KNN算法\n",
    "## 可能存在的问题\n",
    "1. 是否可以将使用时长、故障月份作为故障类型的预测属性\n",
    "* 在真实测试中，在安装电表时，电表还未投入使用无法得到使用时长、故障月份数据。\n",
    "2. 测试集如何划分才能有效的评测分类器性能好坏\n",
    "* 划分测试集的目的是使训练与测试集中的数据不同，以测试训练所得的分类器在未知数据上的泛化能力，如果有很大部分是相同的话划分训练测试的初衷是什么（超过一半）。\n",
    "* 由于相同属性会有不同类别的频次，这个信息可以被树类等机器学习算法学到，所以相同数据的重复数据在没有更加有区分度的属性之前暂时保留。\n",
    "* 划分测试与训练的基本原则是保持其同分布，由于测试数据从所有数据中抽取30%，是为了代表这类问题的普遍性。使用树类的决策树算法，可以无限拟合训练数据，对于这类的数据很可能机器只是记忆了数据，一个模型想要训练准确率高很容易，但是往往一个越简单的算法模型我们认为他具有更好的泛化能力。训练的数据可能在真实的情况中再出现，想要看模型对于训练数据的性能好坏，观察training曲线就可以，没有必要再加入到测试集中，一个好的分类器应该是在这类问题上的任何情况都能表现的很好，而把训练数据加入到测试中，就像把一道测试题的结果已经提前‘泄露’给了训练模型。我们要实现的是对与故障预测这一类问题的分类器，我们要从有限的历史数据中学习出一个泛化能力较好的分类器，训练数据只是大量历史与未来数据中的一部分，这个分类器在这个数据上表现怎么样并不能代表这类问题就能解决好，往往是他有了能够对未知数据较好的处理能力，就像学习一类题目，能举一反三，才能说这类问题我们解决了！"
   ]
  },
  {
   "cell_type": "code",
   "execution_count": null,
   "metadata": {
    "collapsed": true
   },
   "outputs": [],
   "source": []
  }
 ],
 "metadata": {
  "kernelspec": {
   "display_name": "Python 2",
   "language": "python",
   "name": "python2"
  },
  "language_info": {
   "codemirror_mode": {
    "name": "ipython",
    "version": 2
   },
   "file_extension": ".py",
   "mimetype": "text/x-python",
   "name": "python",
   "nbconvert_exporter": "python",
   "pygments_lexer": "ipython2",
   "version": "2.7.10"
  }
 },
 "nbformat": 4,
 "nbformat_minor": 1
}
